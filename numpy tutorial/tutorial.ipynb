{
  "nbformat": 4,
  "nbformat_minor": 0,
  "metadata": {
    "colab": {
      "name": "tutorial.ipynb",
      "provenance": [],
      "collapsed_sections": []
    },
    "kernelspec": {
      "name": "python3",
      "display_name": "Python 3"
    },
    "language_info": {
      "name": "python"
    }
  },
  "cells": [
    {
      "cell_type": "code",
      "metadata": {
        "colab": {
          "base_uri": "https://localhost:8080/"
        },
        "id": "JNV8GFniXEEG",
        "outputId": "ea01e197-4da7-48c6-f359-15e1afa534af"
      },
      "source": [
        "!pip install numpy pandas"
      ],
      "execution_count": 1,
      "outputs": [
        {
          "output_type": "stream",
          "name": "stdout",
          "text": [
            "Requirement already satisfied: numpy in /usr/local/lib/python3.7/dist-packages (1.19.5)\n",
            "Requirement already satisfied: pandas in /usr/local/lib/python3.7/dist-packages (1.1.5)\n",
            "Requirement already satisfied: pytz>=2017.2 in /usr/local/lib/python3.7/dist-packages (from pandas) (2018.9)\n",
            "Requirement already satisfied: python-dateutil>=2.7.3 in /usr/local/lib/python3.7/dist-packages (from pandas) (2.8.2)\n",
            "Requirement already satisfied: six>=1.5 in /usr/local/lib/python3.7/dist-packages (from python-dateutil>=2.7.3->pandas) (1.15.0)\n"
          ]
        }
      ]
    },
    {
      "cell_type": "markdown",
      "metadata": {
        "id": "s8EE_DasXhDA"
      },
      "source": [
        "**How to create an empty and a full NumPy array?**"
      ]
    },
    {
      "cell_type": "code",
      "metadata": {
        "colab": {
          "base_uri": "https://localhost:8080/"
        },
        "id": "qFOPpk3lZLqM",
        "outputId": "63818611-8b14-4b52-93e0-fb7f432cb674"
      },
      "source": [
        "import numpy as np\n",
        "\n",
        "emptyArray = np.empty((3, 4), dtype=int)\n",
        "print(\"Empty array: \", emptyArray)\n",
        "\n",
        "fullArray = np.full([3, 3], 55, dtype=int)\n",
        "print(\"\\nFull array: \", fullArray)"
      ],
      "execution_count": 7,
      "outputs": [
        {
          "output_type": "stream",
          "name": "stdout",
          "text": [
            "Empty array:  [[94640014933472              0              0              0]\n",
            " [             0              0              0              0]\n",
            " [             0              0              0              0]]\n",
            "\n",
            "Full array:  [[55 55 55]\n",
            " [55 55 55]\n",
            " [55 55 55]]\n"
          ]
        }
      ]
    },
    {
      "cell_type": "markdown",
      "metadata": {
        "id": "H0M_tALOZY_J"
      },
      "source": [
        "**Create a Numpy array filled with all zeros**"
      ]
    },
    {
      "cell_type": "code",
      "metadata": {
        "colab": {
          "base_uri": "https://localhost:8080/"
        },
        "id": "b-YUySGPZbac",
        "outputId": "0fe539a8-64ca-480b-d980-18ef40917a32"
      },
      "source": [
        "import numpy as np\n",
        "\n",
        "matrixA = np.zeros(3, dtype = int) \n",
        "print(\"Matrix a : \\n\", matrixA) \n",
        "\n",
        "matrixB = np.zeros([3, 3], dtype = int) \n",
        "print(\"\\nMatrix b : \\n\", matrixB) "
      ],
      "execution_count": 8,
      "outputs": [
        {
          "output_type": "stream",
          "name": "stdout",
          "text": [
            "Matrix a : \n",
            " [0 0 0]\n",
            "\n",
            "Matrix b : \n",
            " [[0 0 0]\n",
            " [0 0 0]\n",
            " [0 0 0]]\n"
          ]
        }
      ]
    },
    {
      "cell_type": "markdown",
      "metadata": {
        "id": "FmP5tiWoa-qm"
      },
      "source": [
        "**Create a Numpy array filled with all ones**"
      ]
    },
    {
      "cell_type": "code",
      "metadata": {
        "colab": {
          "base_uri": "https://localhost:8080/"
        },
        "id": "jsYujD6za_YA",
        "outputId": "f05acfe4-adad-4059-eaf0-6688cfe3ffb0"
      },
      "source": [
        "import numpy as np\n",
        "\n",
        "matrixA = np.ones(3, dtype = int) \n",
        "print(\"Matrix a : \\n\", matrixA) \n",
        "\n",
        "matrixB = np.ones([3, 3], dtype = int) \n",
        "print(\"\\nMatrix b : \\n\", matrixB)"
      ],
      "execution_count": 9,
      "outputs": [
        {
          "output_type": "stream",
          "name": "stdout",
          "text": [
            "Matrix a : \n",
            " [1 1 1]\n",
            "\n",
            "Matrix b : \n",
            " [[1 1 1]\n",
            " [1 1 1]\n",
            " [1 1 1]]\n"
          ]
        }
      ]
    },
    {
      "cell_type": "markdown",
      "metadata": {
        "id": "YVXytbhlcrP9"
      },
      "source": [
        "**Check whether a Numpy array contains a specified row**"
      ]
    },
    {
      "cell_type": "code",
      "metadata": {
        "colab": {
          "base_uri": "https://localhost:8080/"
        },
        "id": "M8hlSLBCcr-f",
        "outputId": "c83eb3e0-1bc5-4001-aa53-168f0bf5a3ce"
      },
      "source": [
        "import numpy as np\n",
        "\n",
        "array = np.array([[1, 2, 3, 4, 5],\n",
        "                   [6, 7, 8, 9, 10],\n",
        "                   [11, 12, 13, 14, 15],\n",
        "                   [16, 17, 18, 19, 20]\n",
        "                   ])\n",
        "\n",
        "print(array)\n",
        "\n",
        "print([1, 2, 3, 4, 5] in array.tolist())\n",
        "print([16, 17, 20, 19, 18] in array.tolist())\n",
        "print([3, 2, 5, -4, 5] in array.tolist())\n",
        "print([11, 12, 13, 14, 15] in array.tolist())"
      ],
      "execution_count": 10,
      "outputs": [
        {
          "output_type": "stream",
          "name": "stdout",
          "text": [
            "[[ 1  2  3  4  5]\n",
            " [ 6  7  8  9 10]\n",
            " [11 12 13 14 15]\n",
            " [16 17 18 19 20]]\n",
            "True\n",
            "False\n",
            "False\n",
            "True\n"
          ]
        }
      ]
    },
    {
      "cell_type": "markdown",
      "metadata": {
        "id": "d8Pa_2cWdKMK"
      },
      "source": [
        "**How to Remove rows in Numpy array that contains non-numeric values?**"
      ]
    },
    {
      "cell_type": "code",
      "metadata": {
        "colab": {
          "base_uri": "https://localhost:8080/"
        },
        "id": "7gZWfq5adKyX",
        "outputId": "c69b8359-7602-4f92-be6c-18da09f29d59"
      },
      "source": [
        "import numpy as np\n",
        "\n",
        "array = np.array([[10.5, 22.5, 3.8],\n",
        "                  [41, np.nan, np.nan]])\n",
        "  \n",
        "print(\"Given array: \", array)\n",
        "  \n",
        "print(\"\\nRemove all rows containing non-numeric elements\")\n",
        "print(array[~np.isnan(array).any(axis=1)])"
      ],
      "execution_count": 11,
      "outputs": [
        {
          "output_type": "stream",
          "name": "stdout",
          "text": [
            "Given array:  [[10.5 22.5  3.8]\n",
            " [41.   nan  nan]]\n",
            "\n",
            "Remove all rows containing non-numeric elements\n",
            "[[10.5 22.5  3.8]]\n"
          ]
        }
      ]
    },
    {
      "cell_type": "markdown",
      "metadata": {
        "id": "V2CXkdsmd8Gl"
      },
      "source": [
        "**Remove single-dimensional entries from the shape of an array**"
      ]
    },
    {
      "cell_type": "code",
      "metadata": {
        "colab": {
          "base_uri": "https://localhost:8080/"
        },
        "id": "AlV5coDDd91_",
        "outputId": "cd9ad847-8302-479d-ea63-c93530964ef3"
      },
      "source": [
        "import numpy as np\n",
        "  \n",
        "inputArray = np.array([[[2, 2, 2], [2, 2, 2]]])\n",
        "   \n",
        "print (\"Input array : \", inputArray) \n",
        "print(\"Shape of input array : \", inputArray.shape)  \n",
        "  \n",
        "outputArray = np.squeeze(inputArray) \n",
        "  \n",
        "print (\"output squeezed array : \", outputArray)\n",
        "print(\"Shape of output array : \", outputArray.shape) "
      ],
      "execution_count": 12,
      "outputs": [
        {
          "output_type": "stream",
          "name": "stdout",
          "text": [
            "Input array :  [[[2 2 2]\n",
            "  [2 2 2]]]\n",
            "Shape of input array :  (1, 2, 3)\n",
            "output squeezed array :  [[2 2 2]\n",
            " [2 2 2]]\n",
            "Shape of output array :  (2, 3)\n"
          ]
        }
      ]
    },
    {
      "cell_type": "markdown",
      "metadata": {
        "id": "gx4Ipdeqea9K"
      },
      "source": [
        "**Find the number of occurrences of a sequence in a NumPy array**"
      ]
    },
    {
      "cell_type": "code",
      "metadata": {
        "colab": {
          "base_uri": "https://localhost:8080/"
        },
        "id": "XmFueaCMebdj",
        "outputId": "23b5c7f6-e565-4440-c525-b0e11b1b01f6"
      },
      "source": [
        "import numpy\n",
        "  \n",
        "array = numpy.array([[2, 8, 9, 4], \n",
        "                   [9, 4, 9, 4],\n",
        "                   [4, 5, 9, 7],\n",
        "                   [2, 9, 4, 3]])\n",
        "  \n",
        "output = repr(array).count(\"9, 4\")\n",
        "  \n",
        "print(output)"
      ],
      "execution_count": 13,
      "outputs": [
        {
          "output_type": "stream",
          "name": "stdout",
          "text": [
            "4\n"
          ]
        }
      ]
    },
    {
      "cell_type": "markdown",
      "metadata": {
        "id": "ixvv1CX1eloB"
      },
      "source": [
        "**Find the most frequent value in a NumPy array**"
      ]
    },
    {
      "cell_type": "code",
      "metadata": {
        "colab": {
          "base_uri": "https://localhost:8080/"
        },
        "id": "eNjuPvbNemEi",
        "outputId": "e42df90d-fd92-444e-c4cf-e457edf3c4ab"
      },
      "source": [
        "\n",
        "import numpy as np\n",
        "  \n",
        "array = np.array([1,2,3,4,5,1,2,1,1,1])\n",
        "print(\"Original array: \")\n",
        "print(array)\n",
        "  \n",
        "print(\"Most frequent value in the above array:\")\n",
        "print(np.bincount(array).argmax())"
      ],
      "execution_count": 14,
      "outputs": [
        {
          "output_type": "stream",
          "name": "stdout",
          "text": [
            "Original array: \n",
            "[1 2 3 4 5 1 2 1 1 1]\n",
            "Most frequent value in the above array:\n",
            "1\n"
          ]
        }
      ]
    },
    {
      "cell_type": "markdown",
      "metadata": {
        "id": "L3Mpsxp-e11c"
      },
      "source": [
        "**Combining a one and a two-dimensional NumPy Array**"
      ]
    },
    {
      "cell_type": "code",
      "metadata": {
        "colab": {
          "base_uri": "https://localhost:8080/"
        },
        "id": "xFDTgztXfu4X",
        "outputId": "eab139f0-f789-40a5-f88e-9cb4354240ef"
      },
      "source": [
        "import numpy as np\n",
        "  \n",
        "arrayOne = np.arange(5)\n",
        "print(\"One dimensional array: \")\n",
        "print(arrayOne)\n",
        "  \n",
        "arrayTwo = np.arange(10).reshape(2,5)\n",
        "print(\"\\nTwo dimensional array:\")\n",
        "print(arrayTwo)\n",
        "  \n",
        "for a, b in np.nditer([arrayOne, arrayTwo]):\n",
        "    print(\"%d:%d\" % (a, b),)"
      ],
      "execution_count": 16,
      "outputs": [
        {
          "output_type": "stream",
          "name": "stdout",
          "text": [
            "One dimensional array: \n",
            "[0 1 2 3 4]\n",
            "\n",
            "Two dimensional array:\n",
            "[[0 1 2 3 4]\n",
            " [5 6 7 8 9]]\n",
            "0:0\n",
            "1:1\n",
            "2:2\n",
            "3:3\n",
            "4:4\n",
            "0:5\n",
            "1:6\n",
            "2:7\n",
            "3:8\n",
            "4:9\n"
          ]
        }
      ]
    },
    {
      "cell_type": "markdown",
      "metadata": {
        "id": "GSdWK1kjfyMd"
      },
      "source": [
        "**How to build an array of all combinations of two NumPy arrays?**"
      ]
    },
    {
      "cell_type": "code",
      "metadata": {
        "colab": {
          "base_uri": "https://localhost:8080/"
        },
        "id": "aJtxzrEAfzMG",
        "outputId": "1ae1219c-5082-43fe-dfef-3d7af7ac111d"
      },
      "source": [
        "import numpy as np\n",
        "  \n",
        "arrayOne = np.array([1, 2])\n",
        "arrayTwo = np.array([4, 6])\n",
        "  \n",
        "print(\"Array 1: \")\n",
        "print(arrayOne)\n",
        "  \n",
        "print(\"\\nArray 2: \")\n",
        "print(arrayTwo)\n",
        "  \n",
        "comb_array = np.array(np.meshgrid(arrayOne, arrayTwo)).T.reshape(-1, 2)\n",
        "  \n",
        "print(\"\\nCombine array: \")\n",
        "print(comb_array)"
      ],
      "execution_count": 17,
      "outputs": [
        {
          "output_type": "stream",
          "name": "stdout",
          "text": [
            "Array 1: \n",
            "[1 2]\n",
            "\n",
            "Array 2: \n",
            "[4 6]\n",
            "\n",
            "Combine array: \n",
            "[[1 4]\n",
            " [1 6]\n",
            " [2 4]\n",
            " [2 6]]\n"
          ]
        }
      ]
    },
    {
      "cell_type": "markdown",
      "metadata": {
        "id": "68BGlaOigMqt"
      },
      "source": [
        "**How to add a border around a NumPy array?**"
      ]
    },
    {
      "cell_type": "code",
      "metadata": {
        "colab": {
          "base_uri": "https://localhost:8080/"
        },
        "id": "STQdPoK4gNC2",
        "outputId": "347c15c8-74d3-4729-a4ed-8df2cc874d09"
      },
      "source": [
        "import numpy as np\n",
        "  \n",
        "array = np.ones((2, 2))\n",
        "  \n",
        "print(\"Original array: \")\n",
        "print(array)\n",
        "  \n",
        "print(\"\\n0 on the border and 1 inside the array\")\n",
        "  \n",
        "array = np.pad(array, pad_width=1, mode='constant',\n",
        "               constant_values=0)\n",
        "  \n",
        "print(array)"
      ],
      "execution_count": 18,
      "outputs": [
        {
          "output_type": "stream",
          "name": "stdout",
          "text": [
            "Original array: \n",
            "[[1. 1.]\n",
            " [1. 1.]]\n",
            "\n",
            "0 on the border and 1 inside the array\n",
            "[[0. 0. 0. 0.]\n",
            " [0. 1. 1. 0.]\n",
            " [0. 1. 1. 0.]\n",
            " [0. 0. 0. 0.]]\n"
          ]
        }
      ]
    },
    {
      "cell_type": "markdown",
      "metadata": {
        "id": "y-JB6u2egxNI"
      },
      "source": [
        "**How to compare two NumPy arrays?**"
      ]
    },
    {
      "cell_type": "code",
      "metadata": {
        "colab": {
          "base_uri": "https://localhost:8080/"
        },
        "id": "_birWdsKgx3o",
        "outputId": "62678490-7bce-4e62-c9be-c671b3f34f8b"
      },
      "source": [
        "import numpy as np\n",
        "  \n",
        "array = np.array([[1, 2], [3, 4]])\n",
        "another_array = np.array([[1, 2], [3, 4]])\n",
        "  \n",
        "comparison = array == another_array\n",
        "equal_arrays = comparison.all()\n",
        "  \n",
        "print(equal_arrays)"
      ],
      "execution_count": 19,
      "outputs": [
        {
          "output_type": "stream",
          "name": "stdout",
          "text": [
            "True\n"
          ]
        }
      ]
    },
    {
      "cell_type": "markdown",
      "metadata": {
        "id": "R3SaRm9zg-Bq"
      },
      "source": [
        "**How to check whether specified values are present in NumPy array?**"
      ]
    },
    {
      "cell_type": "code",
      "metadata": {
        "colab": {
          "base_uri": "https://localhost:8080/"
        },
        "id": "oQ9YY2mIg-e2",
        "outputId": "99625f4e-f0d8-4b5f-c179-98ba0417b84e"
      },
      "source": [
        "import numpy as np\n",
        "  \n",
        "array = np.array([[2, 3, 0],\n",
        "                    [4, 1, 6]])\n",
        "  \n",
        "print(\"Given array: \")\n",
        "print(array)\n",
        "\n",
        "print(2 in array)\n",
        "print(0 in array)\n",
        "print(6 in array)\n",
        "print(50 in array)\n",
        "print(10 in array)"
      ],
      "execution_count": 20,
      "outputs": [
        {
          "output_type": "stream",
          "name": "stdout",
          "text": [
            "Given array: \n",
            "[[2 3 0]\n",
            " [4 1 6]]\n",
            "True\n",
            "True\n",
            "True\n",
            "False\n",
            "False\n"
          ]
        }
      ]
    },
    {
      "cell_type": "markdown",
      "metadata": {
        "id": "gb0hhbanhJDN"
      },
      "source": [
        "**How to get all 2D diagonals of a 3D NumPy array?**"
      ]
    },
    {
      "cell_type": "code",
      "metadata": {
        "colab": {
          "base_uri": "https://localhost:8080/"
        },
        "id": "HOSDoGenhJfT",
        "outputId": "87d1f382-7e58-4239-9379-600610eac931"
      },
      "source": [
        "import numpy as np\n",
        "  \n",
        "array = np.arange(3 * 4 * 4).reshape(3, 4, 4)\n",
        "  \n",
        "print(\"Original 3d array:\\n\", \n",
        "      array)\n",
        "  \n",
        "diag_array = np.diagonal(array, \n",
        "                       axis1 = 1,\n",
        "                       axis2 = 2)\n",
        "  \n",
        "print(\"2d diagonal array:\\n\", \n",
        "      diag_array)"
      ],
      "execution_count": 21,
      "outputs": [
        {
          "output_type": "stream",
          "name": "stdout",
          "text": [
            "Original 3d array:\n",
            " [[[ 0  1  2  3]\n",
            "  [ 4  5  6  7]\n",
            "  [ 8  9 10 11]\n",
            "  [12 13 14 15]]\n",
            "\n",
            " [[16 17 18 19]\n",
            "  [20 21 22 23]\n",
            "  [24 25 26 27]\n",
            "  [28 29 30 31]]\n",
            "\n",
            " [[32 33 34 35]\n",
            "  [36 37 38 39]\n",
            "  [40 41 42 43]\n",
            "  [44 45 46 47]]]\n",
            "2d diagonal array:\n",
            " [[ 0  5 10 15]\n",
            " [16 21 26 31]\n",
            " [32 37 42 47]]\n"
          ]
        }
      ]
    },
    {
      "cell_type": "markdown",
      "metadata": {
        "id": "DCXlFNuXh33m"
      },
      "source": [
        "**Flatten a Matrix in Python using NumPy**"
      ]
    },
    {
      "cell_type": "code",
      "metadata": {
        "colab": {
          "base_uri": "https://localhost:8080/"
        },
        "id": "P50HhSlriUrk",
        "outputId": "ad734076-4cad-4483-84b3-691dc4c778c0"
      },
      "source": [
        "import numpy as np\n",
        "  \n",
        "array = np.array([[2, 3], [4, 5]])\n",
        "  \n",
        "flatArray = array.flatten()\n",
        "print(flatArray)"
      ],
      "execution_count": 23,
      "outputs": [
        {
          "output_type": "stream",
          "name": "stdout",
          "text": [
            "[2 3 4 5]\n"
          ]
        }
      ]
    },
    {
      "cell_type": "markdown",
      "metadata": {
        "id": "oEYNs-PoijNG"
      },
      "source": [
        "**Flatten a 2d numpy array into 1d array**"
      ]
    },
    {
      "cell_type": "code",
      "metadata": {
        "colab": {
          "base_uri": "https://localhost:8080/"
        },
        "id": "DNoTFo1Gik6w",
        "outputId": "8772b3ea-f3f9-4fc9-8413-2cd687058240"
      },
      "source": [
        "import numpy as np\n",
        "  \n",
        "arrayOne = np.array([[1, 2, 3], [2, 4, 5], [1, 2, 3]])\n",
        "  \n",
        "print(\"initial array: \", str(arrayOne))\n",
        "  \n",
        "result = arrayOne.flatten()\n",
        "  \n",
        "print(\"New resulting array: \", result)"
      ],
      "execution_count": 24,
      "outputs": [
        {
          "output_type": "stream",
          "name": "stdout",
          "text": [
            "initial array:  [[1 2 3]\n",
            " [2 4 5]\n",
            " [1 2 3]]\n",
            "New resulting array:  [1 2 3 2 4 5 1 2 3]\n"
          ]
        }
      ]
    },
    {
      "cell_type": "markdown",
      "metadata": {
        "id": "sW9UsB7ciy62"
      },
      "source": [
        "**Move axes of an array to new positions**"
      ]
    },
    {
      "cell_type": "code",
      "metadata": {
        "colab": {
          "base_uri": "https://localhost:8080/"
        },
        "id": "yCYSMIwGizbz",
        "outputId": "83cb5e48-ba29-43d4-ed39-37ad437fca46"
      },
      "source": [
        "import numpy as np\n",
        "  \n",
        "array = np.zeros((1, 2, 3, 4))\n",
        "  \n",
        "gfg = np.moveaxis(array, 0, -1).shape\n",
        "  \n",
        "print (gfg)"
      ],
      "execution_count": 26,
      "outputs": [
        {
          "output_type": "stream",
          "name": "stdout",
          "text": [
            "(2, 3, 4, 1)\n"
          ]
        }
      ]
    },
    {
      "cell_type": "markdown",
      "metadata": {
        "id": "S3RLeudNi8oP"
      },
      "source": [
        "**Interchange two axes of an array**"
      ]
    },
    {
      "cell_type": "code",
      "metadata": {
        "colab": {
          "base_uri": "https://localhost:8080/"
        },
        "id": "EmmMJjWijE15",
        "outputId": "100cb626-dbfe-4967-bc39-61c3e7afca56"
      },
      "source": [
        "import numpy as np\n",
        "  \n",
        "array = np.array([[2, 4, 6]])\n",
        "  \n",
        "gfg = np.swapaxes(array, 0, 1)\n",
        "  \n",
        "print (gfg)"
      ],
      "execution_count": 27,
      "outputs": [
        {
          "output_type": "stream",
          "name": "stdout",
          "text": [
            "[[2]\n",
            " [4]\n",
            " [6]]\n"
          ]
        }
      ]
    },
    {
      "cell_type": "markdown",
      "metadata": {
        "id": "4zXW2AQyjLm2"
      },
      "source": [
        "**NumPy – Fibonacci Series using Binet Formula**"
      ]
    },
    {
      "cell_type": "code",
      "metadata": {
        "colab": {
          "base_uri": "https://localhost:8080/"
        },
        "id": "6pT6tteIjMLK",
        "outputId": "f6f50e90-e822-4bfa-8d4a-192d230fb701"
      },
      "source": [
        "import numpy as np\n",
        "\n",
        "a = np.arange(1, 11)\n",
        "lengthA = len(a)\n",
        "  \n",
        "sqrtFive = np.sqrt(5)\n",
        "alpha = (1 + sqrtFive) / 2\n",
        "beta = (1 - sqrtFive) / 2\n",
        "  \n",
        "Fn = np.rint(((alpha ** a) - (beta ** a)) / (sqrtFive))\n",
        "print(\"The first {} numbers of Fibonacci series are {} . \".format(lengthA, Fn))"
      ],
      "execution_count": 28,
      "outputs": [
        {
          "output_type": "stream",
          "name": "stdout",
          "text": [
            "The first 10 numbers of Fibonacci series are [ 1.  1.  2.  3.  5.  8. 13. 21. 34. 55.] . \n"
          ]
        }
      ]
    },
    {
      "cell_type": "markdown",
      "metadata": {
        "id": "em-isvW3jWXQ"
      },
      "source": [
        "**Counts the number of non-zero values in the array**"
      ]
    },
    {
      "cell_type": "code",
      "metadata": {
        "colab": {
          "base_uri": "https://localhost:8080/"
        },
        "id": "GXoqg4pojanc",
        "outputId": "1e3291df-e0f1-40eb-e4e2-bb55f0db9b34"
      },
      "source": [
        "import numpy as np\n",
        "  \n",
        "array = [[0, 1, 2, 3, 0], [0, 5, 6, 0, 7]]\n",
        "  \n",
        "gfg = np.count_nonzero(array)\n",
        "  \n",
        "print (gfg) "
      ],
      "execution_count": 29,
      "outputs": [
        {
          "output_type": "stream",
          "name": "stdout",
          "text": [
            "6\n"
          ]
        }
      ]
    },
    {
      "cell_type": "markdown",
      "metadata": {
        "id": "3NgioSeujhmz"
      },
      "source": [
        "**Count the number of elements along a given axis**"
      ]
    },
    {
      "cell_type": "code",
      "metadata": {
        "colab": {
          "base_uri": "https://localhost:8080/"
        },
        "id": "bR6aB5_4jiaO",
        "outputId": "a9c869b6-3cb8-4b28-c520-96dfd548baf5"
      },
      "source": [
        "import numpy as np\n",
        " \n",
        "array = np.array([[1, 2, 3, 4], [5, 6, 7, 8]])\n",
        " \n",
        "print(np.size(array))"
      ],
      "execution_count": 30,
      "outputs": [
        {
          "output_type": "stream",
          "name": "stdout",
          "text": [
            "8\n"
          ]
        }
      ]
    },
    {
      "cell_type": "markdown",
      "metadata": {
        "id": "9_u3tmiejsl2"
      },
      "source": [
        "**Trim the leading and/or trailing zeros from a 1-D array**"
      ]
    },
    {
      "cell_type": "code",
      "metadata": {
        "colab": {
          "base_uri": "https://localhost:8080/"
        },
        "id": "gmWCV1VQjvX9",
        "outputId": "0a793d80-9010-4f98-d6b8-6633f5e87d4d"
      },
      "source": [
        "import numpy as np \n",
        "  \n",
        "gfg = np.array((0, 0, 0, 0, 1, 5, 7, 0, 6, 2, 9, 0, 10, 0, 0))\n",
        "  \n",
        "result = np.trim_zeros(gfg)\n",
        "print(result)"
      ],
      "execution_count": 31,
      "outputs": [
        {
          "output_type": "stream",
          "name": "stdout",
          "text": [
            "[ 1  5  7  0  6  2  9  0 10]\n"
          ]
        }
      ]
    },
    {
      "cell_type": "markdown",
      "metadata": {
        "id": "CsclS5tfj6eZ"
      },
      "source": [
        "**Change data type of given numpy array**"
      ]
    },
    {
      "cell_type": "code",
      "metadata": {
        "colab": {
          "base_uri": "https://localhost:8080/"
        },
        "id": "sRCuA6yoj7Ry",
        "outputId": "8803297b-cead-4aa8-ba95-e6329af23517"
      },
      "source": [
        "import numpy as np\n",
        "  \n",
        "array = np.array([10, 20, 30, 40, 50])\n",
        "  \n",
        "print(array)"
      ],
      "execution_count": 32,
      "outputs": [
        {
          "output_type": "stream",
          "name": "stdout",
          "text": [
            "[10 20 30 40 50]\n"
          ]
        }
      ]
    },
    {
      "cell_type": "markdown",
      "metadata": {
        "id": "2d18BlVFkDL_"
      },
      "source": [
        "**Reverse a numpy array**"
      ]
    },
    {
      "cell_type": "code",
      "metadata": {
        "colab": {
          "base_uri": "https://localhost:8080/"
        },
        "id": "hJgfkAzTkDm-",
        "outputId": "d25cbae5-b698-4a2c-f061-f9011eb36211"
      },
      "source": [
        "import numpy as np\n",
        "  \n",
        "initialArray = np.array([1, 2, 3, 6, 4, 5])\n",
        "  \n",
        "print(\"initial array: \", str(initialArray))\n",
        "  \n",
        "print(\"type of initialArray: \", type(initialArray))\n",
        "  \n",
        "result = np.flipud(initialArray)\n",
        "  \n",
        "print(\"final array: \", str(result))"
      ],
      "execution_count": 33,
      "outputs": [
        {
          "output_type": "stream",
          "name": "stdout",
          "text": [
            "initial array:  [1 2 3 6 4 5]\n",
            "type of initialArray:  <class 'numpy.ndarray'>\n",
            "final array:  [5 4 6 3 2 1]\n"
          ]
        }
      ]
    },
    {
      "cell_type": "markdown",
      "metadata": {
        "id": "OJRpuq5QkU8d"
      },
      "source": [
        "**How to make a NumPy array read-only?**"
      ]
    },
    {
      "cell_type": "code",
      "metadata": {
        "colab": {
          "base_uri": "https://localhost:8080/",
          "height": 282
        },
        "id": "blVMS5LllBFv",
        "outputId": "9e2f04e8-575c-46aa-fbac-91ee8698294a"
      },
      "source": [
        "import numpy as np\n",
        "  \n",
        "  \n",
        "a = np.zeros(11)\n",
        "print(\"Before any change: \")\n",
        "print(a)\n",
        "  \n",
        "a[1] = 2\n",
        "print(\"Before after first change: \")\n",
        "print(a)\n",
        "  \n",
        "a.flags.writeable = False\n",
        "print(\"After making array immutable on attempting  second change: \")\n",
        "a[1] = 7"
      ],
      "execution_count": 34,
      "outputs": [
        {
          "output_type": "stream",
          "name": "stdout",
          "text": [
            "Before any change: \n",
            "[0. 0. 0. 0. 0. 0. 0. 0. 0. 0. 0.]\n",
            "Before after first change: \n",
            "[0. 2. 0. 0. 0. 0. 0. 0. 0. 0. 0.]\n",
            "After making array immutable on attempting  second change: \n"
          ]
        },
        {
          "output_type": "error",
          "ename": "ValueError",
          "evalue": "ignored",
          "traceback": [
            "\u001b[0;31m---------------------------------------------------------------------------\u001b[0m",
            "\u001b[0;31mValueError\u001b[0m                                Traceback (most recent call last)",
            "\u001b[0;32m<ipython-input-34-4e32b175a5a9>\u001b[0m in \u001b[0;36m<module>\u001b[0;34m()\u001b[0m\n\u001b[1;32m     12\u001b[0m \u001b[0ma\u001b[0m\u001b[0;34m.\u001b[0m\u001b[0mflags\u001b[0m\u001b[0;34m.\u001b[0m\u001b[0mwriteable\u001b[0m \u001b[0;34m=\u001b[0m \u001b[0;32mFalse\u001b[0m\u001b[0;34m\u001b[0m\u001b[0;34m\u001b[0m\u001b[0m\n\u001b[1;32m     13\u001b[0m \u001b[0mprint\u001b[0m\u001b[0;34m(\u001b[0m\u001b[0;34m\"After making array immutable on attempting  second change: \"\u001b[0m\u001b[0;34m)\u001b[0m\u001b[0;34m\u001b[0m\u001b[0;34m\u001b[0m\u001b[0m\n\u001b[0;32m---> 14\u001b[0;31m \u001b[0ma\u001b[0m\u001b[0;34m[\u001b[0m\u001b[0;36m1\u001b[0m\u001b[0;34m]\u001b[0m \u001b[0;34m=\u001b[0m \u001b[0;36m7\u001b[0m\u001b[0;34m\u001b[0m\u001b[0;34m\u001b[0m\u001b[0m\n\u001b[0m",
            "\u001b[0;31mValueError\u001b[0m: assignment destination is read-only"
          ]
        }
      ]
    },
    {
      "cell_type": "markdown",
      "metadata": {
        "id": "2oxeb0nrlR4I"
      },
      "source": [
        "# **Questions on NumPy Matrix**"
      ]
    },
    {
      "cell_type": "markdown",
      "metadata": {
        "id": "fNjYzQhPlV5K"
      },
      "source": [
        "**Get the maximum value from given matrix**"
      ]
    },
    {
      "cell_type": "code",
      "metadata": {
        "colab": {
          "base_uri": "https://localhost:8080/"
        },
        "id": "PpVFQg8YlYDA",
        "outputId": "2e376e93-28a0-43b7-8433-e3084a2ba8af"
      },
      "source": [
        "import numpy as np\n",
        "          \n",
        "gfg = np.matrix('[64, 1; 12, 3]')\n",
        "          \n",
        "matrix = gfg.max()\n",
        "    \n",
        "print(matrix)"
      ],
      "execution_count": 35,
      "outputs": [
        {
          "output_type": "stream",
          "name": "stdout",
          "text": [
            "64\n"
          ]
        }
      ]
    },
    {
      "cell_type": "markdown",
      "metadata": {
        "id": "toFnL2Sblif6"
      },
      "source": [
        "**Get the minimum value from given matrix**"
      ]
    },
    {
      "cell_type": "code",
      "metadata": {
        "colab": {
          "base_uri": "https://localhost:8080/"
        },
        "id": "EwRhhI-VlnL2",
        "outputId": "db776e4e-941e-40d9-d124-7bd961320e44"
      },
      "source": [
        "import numpy as np\n",
        "          \n",
        "gfg = np.matrix('[64, 1; 12, 3]')\n",
        "          \n",
        "matrix = gfg.min()\n",
        "    \n",
        "print(matrix)"
      ],
      "execution_count": 36,
      "outputs": [
        {
          "output_type": "stream",
          "name": "stdout",
          "text": [
            "1\n"
          ]
        }
      ]
    },
    {
      "cell_type": "markdown",
      "metadata": {
        "id": "gdsX3wDemNT2"
      },
      "source": [
        "**Find the number of rows and columns of a given matrix using NumPy**"
      ]
    },
    {
      "cell_type": "code",
      "metadata": {
        "colab": {
          "base_uri": "https://localhost:8080/"
        },
        "id": "8SzrNNe_mmtc",
        "outputId": "a15780c3-e48f-4d91-8589-9fff08a06a53"
      },
      "source": [
        "import numpy as np \n",
        "  \n",
        "matrix = np.arange(0,9).reshape((3, 3))\n",
        "  \n",
        "print(matrix)\n",
        "  \n",
        "print(matrix.shape)"
      ],
      "execution_count": 40,
      "outputs": [
        {
          "output_type": "stream",
          "name": "stdout",
          "text": [
            "[[0 1 2]\n",
            " [3 4 5]\n",
            " [6 7 8]]\n",
            "(3, 3)\n"
          ]
        }
      ]
    },
    {
      "cell_type": "markdown",
      "metadata": {
        "id": "F485XS4QnKfq"
      },
      "source": [
        "**Select the elements from a given matrix**"
      ]
    },
    {
      "cell_type": "code",
      "metadata": {
        "colab": {
          "base_uri": "https://localhost:8080/"
        },
        "id": "48poQXngnLkI",
        "outputId": "3bdc1443-270d-4908-caa5-e2f20cdbc008"
      },
      "source": [
        "import numpy as np\n",
        "              \n",
        "gfg = np.matrix('[4, 1, 12, 3, 4, 6, 7]')\n",
        "              \n",
        "matrix = gfg.take(2)\n",
        "    \n",
        "print(matrix)"
      ],
      "execution_count": 41,
      "outputs": [
        {
          "output_type": "stream",
          "name": "stdout",
          "text": [
            "[[12]]\n"
          ]
        }
      ]
    },
    {
      "cell_type": "markdown",
      "metadata": {
        "id": "iWvhixmxnWqZ"
      },
      "source": [
        "**Find the sum of values in a matrix**"
      ]
    },
    {
      "cell_type": "code",
      "metadata": {
        "colab": {
          "base_uri": "https://localhost:8080/"
        },
        "id": "wJVpkZ3ZnXvp",
        "outputId": "bbc76401-af09-45e8-b27e-9fc11ab303c5"
      },
      "source": [
        "import numpy as np\n",
        "             \n",
        "gfg = np.matrix('[4, 1; 12, 3]')\n",
        "             \n",
        "matrix = gfg.sum()\n",
        "   \n",
        "print(matrix)"
      ],
      "execution_count": 42,
      "outputs": [
        {
          "output_type": "stream",
          "name": "stdout",
          "text": [
            "20\n"
          ]
        }
      ]
    },
    {
      "cell_type": "markdown",
      "metadata": {
        "id": "u61nxDbtniJy"
      },
      "source": [
        "**Calculate the sum of the diagonal elements of a NumPy array**"
      ]
    },
    {
      "cell_type": "code",
      "metadata": {
        "colab": {
          "base_uri": "https://localhost:8080/"
        },
        "id": "Xwn2hhj9njQm",
        "outputId": "23f1ad88-2b0f-4c1c-fdce-cd1dd2225106"
      },
      "source": [
        "import numpy as np\n",
        "  \n",
        "n_array = np.array([[55, 25, 15],\n",
        "                    [30, 44, 2],\n",
        "                    [11, 45, 77]])\n",
        "  \n",
        "print(\"Numpy Matrix is: \")\n",
        "print(n_array)\n",
        "  \n",
        "trace = np.trace(n_array)\n",
        "  \n",
        "print(\"\\nTrace of given 3X3 matrix: \")\n",
        "print(trace)"
      ],
      "execution_count": 43,
      "outputs": [
        {
          "output_type": "stream",
          "name": "stdout",
          "text": [
            "Numpy Matrix is: \n",
            "[[55 25 15]\n",
            " [30 44  2]\n",
            " [11 45 77]]\n",
            "\n",
            "Trace of given 3X3 matrix: \n",
            "176\n"
          ]
        }
      ]
    },
    {
      "cell_type": "markdown",
      "metadata": {
        "id": "qRS9JgJrnrlL"
      },
      "source": [
        "**Adding and Subtracting Matrices in Python**"
      ]
    },
    {
      "cell_type": "code",
      "metadata": {
        "colab": {
          "base_uri": "https://localhost:8080/"
        },
        "id": "vryodIaPnssI",
        "outputId": "f8af38ed-ba1c-43bd-e697-85f30e1bd886"
      },
      "source": [
        "import numpy as np\n",
        "  \n",
        "A = np.array([[1, 2], [3, 4]])\n",
        "  \n",
        "B = np.array([[4, 5], [6, 7]])\n",
        "  \n",
        "print(\"Printing elements of first matrix: \")\n",
        "print(A)\n",
        "print(\"Printing elements of second matrix: \")\n",
        "print(B)\n",
        "  \n",
        "print(\"Addition of two matrix: \")\n",
        "print(np.add(A, B))"
      ],
      "execution_count": 44,
      "outputs": [
        {
          "output_type": "stream",
          "name": "stdout",
          "text": [
            "Printing elements of first matrix: \n",
            "[[1 2]\n",
            " [3 4]]\n",
            "Printing elements of second matrix: \n",
            "[[4 5]\n",
            " [6 7]]\n",
            "Addition of two matrix: \n",
            "[[ 5  7]\n",
            " [ 9 11]]\n"
          ]
        }
      ]
    },
    {
      "cell_type": "markdown",
      "metadata": {
        "id": "2K4f_MK3ogEf"
      },
      "source": [
        "**Ways to add row/columns in numpy array**"
      ]
    },
    {
      "cell_type": "code",
      "metadata": {
        "colab": {
          "base_uri": "https://localhost:8080/"
        },
        "id": "IzqyrIFGohGU",
        "outputId": "911c7b29-38a3-4afc-b8dc-758a9370efd1"
      },
      "source": [
        "import numpy as np\n",
        " \n",
        "ini_array = np.array([[1, 2, 3], [45, 4, 7], [9, 6, 10]])\n",
        " \n",
        "print(\"initial_array : \", str(ini_array));\n",
        " \n",
        "column_to_be_added = np.array([1, 2, 3])\n",
        " \n",
        "result = np.hstack((ini_array, np.atleast_2d(column_to_be_added).T))\n",
        " \n",
        "print (\"resultant array\", str(result))"
      ],
      "execution_count": 45,
      "outputs": [
        {
          "output_type": "stream",
          "name": "stdout",
          "text": [
            "initial_array :  [[ 1  2  3]\n",
            " [45  4  7]\n",
            " [ 9  6 10]]\n",
            "resultant array [[ 1  2  3  1]\n",
            " [45  4  7  2]\n",
            " [ 9  6 10  3]]\n"
          ]
        }
      ]
    },
    {
      "cell_type": "markdown",
      "metadata": {
        "id": "CytUAXaSotCE"
      },
      "source": [
        "**Matrix Multiplication in NumPy**"
      ]
    },
    {
      "cell_type": "code",
      "metadata": {
        "colab": {
          "base_uri": "https://localhost:8080/"
        },
        "id": "YyXRfAxYouPe",
        "outputId": "71ed413c-b2a7-499b-afdf-cafb60cb6178"
      },
      "source": [
        "import numpy as np\n",
        "  \n",
        "p = [[1, 2], [2, 3]]\n",
        "q = [[4, 5], [6, 7]]\n",
        "print(\"Matrix p :\")\n",
        "print(p)\n",
        "print(\"Matrix q :\")\n",
        "print(q)\n",
        "  \n",
        "result = np.dot(p, q)\n",
        "  \n",
        "print(\"The matrix multiplication is :\")\n",
        "print(result)"
      ],
      "execution_count": 46,
      "outputs": [
        {
          "output_type": "stream",
          "name": "stdout",
          "text": [
            "Matrix p :\n",
            "[[1, 2], [2, 3]]\n",
            "Matrix q :\n",
            "[[4, 5], [6, 7]]\n",
            "The matrix multiplication is :\n",
            "[[16 19]\n",
            " [26 31]]\n"
          ]
        }
      ]
    },
    {
      "cell_type": "markdown",
      "metadata": {
        "id": "1PCo-jeGo0dA"
      },
      "source": [
        "**Get the eigen values of a matrix**"
      ]
    },
    {
      "cell_type": "code",
      "metadata": {
        "colab": {
          "base_uri": "https://localhost:8080/"
        },
        "id": "vzfOFHCSo2Wr",
        "outputId": "3a8ce49e-f0bb-4630-e823-7a83aff0eedf"
      },
      "source": [
        "from numpy import linalg as LA\n",
        "  \n",
        "gfg = LA.eigvals([[1, 2], [3, 4]])\n",
        "  \n",
        "print(gfg)"
      ],
      "execution_count": 47,
      "outputs": [
        {
          "output_type": "stream",
          "name": "stdout",
          "text": [
            "[-0.37228132  5.37228132]\n"
          ]
        }
      ]
    },
    {
      "cell_type": "markdown",
      "metadata": {
        "id": "aurTJfM7pFGZ"
      },
      "source": [
        "**How to Calculate the determinant of a matrix using NumPy?**"
      ]
    },
    {
      "cell_type": "code",
      "metadata": {
        "colab": {
          "base_uri": "https://localhost:8080/"
        },
        "id": "VVHI4XdXpGDW",
        "outputId": "7d9b69f4-8aa6-4758-af88-0f400a892f95"
      },
      "source": [
        "import numpy as np\n",
        "  \n",
        "n_array = np.array([[50, 29], [30, 44]])\n",
        "  \n",
        "print(\"Numpy Matrix is: \")\n",
        "print(n_array)\n",
        "  \n",
        "det = np.linalg.det(n_array)\n",
        "  \n",
        "print(\"\\nDeterminant of given 2X2 matrix: \")\n",
        "print(int(det))"
      ],
      "execution_count": 48,
      "outputs": [
        {
          "output_type": "stream",
          "name": "stdout",
          "text": [
            "Numpy Matrix is: \n",
            "[[50 29]\n",
            " [30 44]]\n",
            "\n",
            "Determinant of given 2X2 matrix: \n",
            "1330\n"
          ]
        }
      ]
    },
    {
      "cell_type": "markdown",
      "metadata": {
        "id": "fvjEhcVnpRHH"
      },
      "source": [
        "**How to inverse a matrix using NumPy**"
      ]
    },
    {
      "cell_type": "code",
      "metadata": {
        "colab": {
          "base_uri": "https://localhost:8080/"
        },
        "id": "9i98tiIRpTUJ",
        "outputId": "d1f81c9c-1faf-43eb-e9c2-7c267ad4ff15"
      },
      "source": [
        "import numpy as np\n",
        "  \n",
        "A = np.array([[6, 1, 1],\n",
        "              [4, -2, 5],\n",
        "              [2, 8, 7]])\n",
        "  \n",
        "print(np.linalg.inv(A))"
      ],
      "execution_count": 49,
      "outputs": [
        {
          "output_type": "stream",
          "name": "stdout",
          "text": [
            "[[ 0.17647059 -0.00326797 -0.02287582]\n",
            " [ 0.05882353 -0.13071895  0.08496732]\n",
            " [-0.11764706  0.1503268   0.05228758]]\n"
          ]
        }
      ]
    },
    {
      "cell_type": "markdown",
      "metadata": {
        "id": "lQFFk61RpkXx"
      },
      "source": [
        "**How to count the frequency of unique values in NumPy array?**"
      ]
    },
    {
      "cell_type": "code",
      "metadata": {
        "colab": {
          "base_uri": "https://localhost:8080/"
        },
        "id": "0FK0tG-pplUN",
        "outputId": "630f3ede-f06f-4e20-c76e-d868f487aa77"
      },
      "source": [
        "import numpy as np\n",
        "  \n",
        "ini_array = np.array([10, 20, 5,\n",
        "                      10, 8, 20,\n",
        "                      8, 9])\n",
        "  \n",
        "unique, frequency = np.unique(ini_array, \n",
        "                              return_counts = True)\n",
        "print(\"Unique Values: \", \n",
        "      unique)\n",
        "  \n",
        "print(\"Frequency Values: \",\n",
        "      frequency)"
      ],
      "execution_count": 50,
      "outputs": [
        {
          "output_type": "stream",
          "name": "stdout",
          "text": [
            "Unique Values:  [ 5  8  9 10 20]\n",
            "Frequency Values:  [1 2 1 2 2]\n"
          ]
        }
      ]
    },
    {
      "cell_type": "markdown",
      "metadata": {
        "id": "_Fz3sSrOpz5a"
      },
      "source": [
        "**Multiply matrices of complex numbers using NumPy in Python**"
      ]
    },
    {
      "cell_type": "code",
      "metadata": {
        "colab": {
          "base_uri": "https://localhost:8080/"
        },
        "id": "rjrMUVUnp281",
        "outputId": "ae571ca5-0a81-4d63-e985-66516304a357"
      },
      "source": [
        "import numpy as np\n",
        "  \n",
        "x = np.array([2+3j, 4+5j])\n",
        "print(\"Printing First matrix: \")\n",
        "print(x)\n",
        "  \n",
        "y = np.array([8+7j, 5+6j])\n",
        "print(\"Printing Second matrix: \")\n",
        "print(y)\n",
        "  \n",
        "z = np.vdot(x, y)\n",
        "print(\"Product of first and second matrices are: \")\n",
        "print(z)"
      ],
      "execution_count": 51,
      "outputs": [
        {
          "output_type": "stream",
          "name": "stdout",
          "text": [
            "Printing First matrix: \n",
            "[2.+3.j 4.+5.j]\n",
            "Printing Second matrix: \n",
            "[8.+7.j 5.+6.j]\n",
            "Product of first and second matrices are: \n",
            "(87-11j)\n"
          ]
        }
      ]
    },
    {
      "cell_type": "markdown",
      "metadata": {
        "id": "4TJa1OUgqB_E"
      },
      "source": [
        "**Compute the outer product of two given vectors using NumPy in Python**"
      ]
    },
    {
      "cell_type": "code",
      "metadata": {
        "colab": {
          "base_uri": "https://localhost:8080/"
        },
        "id": "-2aH4ks5qC8G",
        "outputId": "b3fbf84b-89e4-4e1f-b682-a630a10fc3af"
      },
      "source": [
        "import numpy as np\n",
        "  \n",
        "array1 = np.array([6,2])\n",
        "array2 = np.array([2,5])\n",
        "print(\"Original 1-D arrays: \")\n",
        "print(array1)\n",
        "print(array2)\n",
        "  \n",
        "print(\"Outer Product of the two array is: \")\n",
        "result = np.outer(array1, array2)\n",
        "print(result)"
      ],
      "execution_count": 52,
      "outputs": [
        {
          "output_type": "stream",
          "name": "stdout",
          "text": [
            "Original 1-D arrays: \n",
            "[6 2]\n",
            "[2 5]\n",
            "Outer Product of the two array is: \n",
            "[[12 30]\n",
            " [ 4 10]]\n"
          ]
        }
      ]
    },
    {
      "cell_type": "markdown",
      "metadata": {
        "id": "kdya_QbBqMY_"
      },
      "source": [
        "**Calculate inner, outer, and cross products of matrices and vectors using NumPy**"
      ]
    },
    {
      "cell_type": "code",
      "metadata": {
        "colab": {
          "base_uri": "https://localhost:8080/"
        },
        "id": "ceZw8-drqNTH",
        "outputId": "f84e5702-1221-45cd-ea5c-4b150ac82c93"
      },
      "source": [
        "import numpy as np\n",
        "  \n",
        "a = np.array([2, 6])\n",
        "b = np.array([3, 10])\n",
        "print(\"Vectors :\")\n",
        "print(\"a = \", a)\n",
        "print(\"\\nb = \", b)\n",
        "  \n",
        "print(\"\\nInner product of vectors a and b =\")\n",
        "print(np.inner(a, b))\n",
        "  \n",
        "print(\"---------------------------------------\")\n",
        "  \n",
        "x = np.array([[2, 3, 4], [3, 2, 9]])\n",
        "y = np.array([[1, 5, 0], [5, 10, 3]])\n",
        "print(\"\\nMatrices :\")\n",
        "print(\"x =\", x)\n",
        "print(\"\\ny =\", y)\n",
        "  \n",
        "print(\"\\nInner product of matrices x and y =\")\n",
        "print(np.inner(x, y))"
      ],
      "execution_count": 53,
      "outputs": [
        {
          "output_type": "stream",
          "name": "stdout",
          "text": [
            "Vectors :\n",
            "a =  [2 6]\n",
            "\n",
            "b =  [ 3 10]\n",
            "\n",
            "Inner product of vectors a and b =\n",
            "66\n",
            "---------------------------------------\n",
            "\n",
            "Matrices :\n",
            "x = [[2 3 4]\n",
            " [3 2 9]]\n",
            "\n",
            "y = [[ 1  5  0]\n",
            " [ 5 10  3]]\n",
            "\n",
            "Inner product of matrices x and y =\n",
            "[[17 52]\n",
            " [13 62]]\n"
          ]
        }
      ]
    },
    {
      "cell_type": "markdown",
      "metadata": {
        "id": "ZaO-0PCIqYCh"
      },
      "source": [
        "**Compute the covariance matrix of two given NumPy arrays**"
      ]
    },
    {
      "cell_type": "code",
      "metadata": {
        "colab": {
          "base_uri": "https://localhost:8080/"
        },
        "id": "FHqa3HRWqZkY",
        "outputId": "8f9af9a2-ecf6-4213-a122-f28fc5f84013"
      },
      "source": [
        "import numpy as np\n",
        "  \n",
        "array1 = np.array([0, 1, 1])\n",
        "array2 = np.array([2, 2, 1])\n",
        "  \n",
        "print(array1)\n",
        "  \n",
        "print(array2)\n",
        "  \n",
        "print(\"\\nCovariance matrix of the said arrays:\\n\",\n",
        "      np.cov(array1, array2))"
      ],
      "execution_count": 54,
      "outputs": [
        {
          "output_type": "stream",
          "name": "stdout",
          "text": [
            "[0 1 1]\n",
            "[2 2 1]\n",
            "\n",
            "Covariance matrix of the said arrays:\n",
            " [[ 0.33333333 -0.16666667]\n",
            " [-0.16666667  0.33333333]]\n"
          ]
        }
      ]
    },
    {
      "cell_type": "markdown",
      "metadata": {
        "id": "nDZs3-PrrdHO"
      },
      "source": [
        "**Compute the Kronecker product of two mulitdimension NumPy arrays**"
      ]
    },
    {
      "cell_type": "code",
      "metadata": {
        "colab": {
          "base_uri": "https://localhost:8080/"
        },
        "id": "4HQnRm7CreEX",
        "outputId": "8165078e-ea27-4f75-e269-39c88d1b0e91"
      },
      "source": [
        "import numpy\n",
        " \n",
        "array1 = numpy.array([[1, 2], [3, 4]])\n",
        "print('Array1:\\n', array1)\n",
        " \n",
        "array2 = numpy.array([[5, 6], [7, 8]])\n",
        "print('\\nArray2:\\n', array2)\n",
        " \n",
        "kroneckerProduct = numpy.kron(array1, array2)\n",
        "print('\\nArray1 ⊗ Array2: ')\n",
        "print(kroneckerProduct)"
      ],
      "execution_count": 58,
      "outputs": [
        {
          "output_type": "stream",
          "name": "stdout",
          "text": [
            "Array1:\n",
            " [[1 2]\n",
            " [3 4]]\n",
            "\n",
            "Array2:\n",
            " [[5 6]\n",
            " [7 8]]\n",
            "\n",
            "Array1 ⊗ Array2: \n",
            "[[ 5  6 10 12]\n",
            " [ 7  8 14 16]\n",
            " [15 18 20 24]\n",
            " [21 24 28 32]]\n"
          ]
        }
      ]
    },
    {
      "cell_type": "markdown",
      "metadata": {
        "id": "deOZmGgbrrAV"
      },
      "source": [
        "**Convert the matrix into a list**"
      ]
    },
    {
      "cell_type": "code",
      "metadata": {
        "colab": {
          "base_uri": "https://localhost:8080/"
        },
        "id": "WoHQAX5Lrr9u",
        "outputId": "b95c78d9-ef6b-449f-a9b5-633991b99783"
      },
      "source": [
        "import numpy as np\n",
        "              \n",
        "gfg = np.matrix('[4, 1, 12, 3]')\n",
        "              \n",
        "matrix = gfg.tolist()\n",
        "    \n",
        "print(matrix)"
      ],
      "execution_count": 59,
      "outputs": [
        {
          "output_type": "stream",
          "name": "stdout",
          "text": [
            "[[4, 1, 12, 3]]\n"
          ]
        }
      ]
    },
    {
      "cell_type": "markdown",
      "metadata": {
        "id": "zII4_i-3r2D-"
      },
      "source": [
        "# **Questions on NumPy Indexing**"
      ]
    },
    {
      "cell_type": "markdown",
      "metadata": {
        "id": "7HDwdN4vr3M9"
      },
      "source": [
        "**Replace NumPy array elements that doesn’t satisfy the given condition**"
      ]
    },
    {
      "cell_type": "code",
      "metadata": {
        "colab": {
          "base_uri": "https://localhost:8080/"
        },
        "id": "UkODGri_sLHp",
        "outputId": "d7118705-4d33-4ee2-eb0c-aa27a4178feb"
      },
      "source": [
        "import numpy as np\n",
        "  \n",
        "n_arr = np.array([75.42436315, 42.48558583, 60.32924763])\n",
        "print(\"Given array:\")\n",
        "print(n_arr)\n",
        "  \n",
        "print(\"\\nReplace all elements of array which are greater than 50. to 15.50\")\n",
        "n_arr[n_arr > 50.] = 15.50\n",
        "  \n",
        "print(\"New array: \\n\")\n",
        "print(n_arr)"
      ],
      "execution_count": 60,
      "outputs": [
        {
          "output_type": "stream",
          "name": "stdout",
          "text": [
            "Given array:\n",
            "[75.42436315 42.48558583 60.32924763]\n",
            "\n",
            "Replace all elements of array which are greater than 50. to 15.50\n",
            "New array: \n",
            "\n",
            "[15.5        42.48558583 15.5       ]\n"
          ]
        }
      ]
    },
    {
      "cell_type": "markdown",
      "metadata": {
        "id": "NQ0Hr2oYsUvM"
      },
      "source": [
        "**Return the indices of elements where the given condition is satisfied**"
      ]
    },
    {
      "cell_type": "code",
      "metadata": {
        "colab": {
          "base_uri": "https://localhost:8080/"
        },
        "id": "CgkfZg78sV83",
        "outputId": "c780473b-19d7-44d2-bf24-8b5f63e890c5"
      },
      "source": [
        "import numpy as np\n",
        "  \n",
        "np.where([[True, False], [True, True]],\n",
        "         [[1, 2], [3, 4]], [[5, 6], [7, 8]])"
      ],
      "execution_count": 61,
      "outputs": [
        {
          "output_type": "execute_result",
          "data": {
            "text/plain": [
              "array([[1, 6],\n",
              "       [3, 4]])"
            ]
          },
          "metadata": {},
          "execution_count": 61
        }
      ]
    },
    {
      "cell_type": "markdown",
      "metadata": {
        "id": "jb70N2FDscrj"
      },
      "source": [
        "**Replace NaN values with average of columns**"
      ]
    },
    {
      "cell_type": "code",
      "metadata": {
        "colab": {
          "base_uri": "https://localhost:8080/"
        },
        "id": "c9D8KAvWseEU",
        "outputId": "dbb1c06a-302c-43f6-bb37-a7307fac0de3"
      },
      "source": [
        "import numpy as np\n",
        "  \n",
        "ini_array = np.array([[1.3, 2.5, 3.6, np.nan], \n",
        "                      [2.6, 3.3, np.nan, 5.5],\n",
        "                      [2.1, 3.2, 5.4, 6.5]])\n",
        "  \n",
        "print (\"initial array\", ini_array)\n",
        "  \n",
        "col_mean = np.nanmean(ini_array, axis = 0)\n",
        "  \n",
        "print (\"columns mean\", str(col_mean))\n",
        "  \n",
        "inds = np.where(np.isnan(ini_array))\n",
        "  \n",
        "ini_array[inds] = np.take(col_mean, inds[1])\n",
        "  \n",
        "print (\"final array\", ini_array)"
      ],
      "execution_count": 62,
      "outputs": [
        {
          "output_type": "stream",
          "name": "stdout",
          "text": [
            "initial array [[1.3 2.5 3.6 nan]\n",
            " [2.6 3.3 nan 5.5]\n",
            " [2.1 3.2 5.4 6.5]]\n",
            "columns mean [2.  3.  4.5 6. ]\n",
            "final array [[1.3 2.5 3.6 6. ]\n",
            " [2.6 3.3 4.5 5.5]\n",
            " [2.1 3.2 5.4 6.5]]\n"
          ]
        }
      ]
    },
    {
      "cell_type": "markdown",
      "metadata": {
        "id": "NBB9FCn_sxuQ"
      },
      "source": [
        "**Replace negative value with zero in numpy array**"
      ]
    },
    {
      "cell_type": "code",
      "metadata": {
        "colab": {
          "base_uri": "https://localhost:8080/"
        },
        "id": "Z57Cr0C8syuU",
        "outputId": "04bc8b61-6c01-40d8-b9e0-b394222a582b"
      },
      "source": [
        "import numpy as np\n",
        "  \n",
        "ini_array1 = np.array([1, 2, -3, 4, -5, -6])\n",
        "  \n",
        "print(\"initial array\", ini_array1)\n",
        "  \n",
        "ini_array1[ini_array1<0] = 0\n",
        "  \n",
        "print(\"New resulting array: \", ini_array1)"
      ],
      "execution_count": 63,
      "outputs": [
        {
          "output_type": "stream",
          "name": "stdout",
          "text": [
            "initial array [ 1  2 -3  4 -5 -6]\n",
            "New resulting array:  [1 2 0 4 0 0]\n"
          ]
        }
      ]
    },
    {
      "cell_type": "markdown",
      "metadata": {
        "id": "MbMEo6bfs73V"
      },
      "source": [
        "**How to get values of an NumPy array at certain index positions?**"
      ]
    },
    {
      "cell_type": "code",
      "metadata": {
        "colab": {
          "base_uri": "https://localhost:8080/"
        },
        "id": "y_JD37sks84z",
        "outputId": "300e3056-34a0-4a09-b5f9-831939d7e385"
      },
      "source": [
        "import numpy as np\n",
        "  \n",
        "a1 = np.array([11, 10, 22, 30, 33])\n",
        "print(\"Array 1 :\")\n",
        "print(a1)\n",
        "  \n",
        "a2 = np.array([1, 15, 60])\n",
        "print(\"Array 2 :\")\n",
        "print(a2)\n",
        "  \n",
        "print(\"\\nTake 1 and 15 from Array 2 and put them in\\\n",
        "1st and 5th position of Array 1\")\n",
        "  \n",
        "a1.put([0, 4], a2)\n",
        "  \n",
        "print(\"Resultant Array: \")\n",
        "print(a1)"
      ],
      "execution_count": 64,
      "outputs": [
        {
          "output_type": "stream",
          "name": "stdout",
          "text": [
            "Array 1 :\n",
            "[11 10 22 30 33]\n",
            "Array 2 :\n",
            "[ 1 15 60]\n",
            "\n",
            "Take 1 and 15 from Array 2 and put them in1st and 5th position of Array 1\n",
            "Resultant Array: \n",
            "[ 1 10 22 30 15]\n"
          ]
        }
      ]
    },
    {
      "cell_type": "markdown",
      "metadata": {
        "id": "x2divLPCtEmb"
      },
      "source": [
        "**Find indices of elements equal to zero in a NumPy array**"
      ]
    },
    {
      "cell_type": "code",
      "metadata": {
        "colab": {
          "base_uri": "https://localhost:8080/"
        },
        "id": "thQ6jLavtFvw",
        "outputId": "9635de93-2a70-41f1-a027-ed4509282fae"
      },
      "source": [
        "import numpy as np\n",
        "  \n",
        "n_array = np.array([1, 0, 2, 0, 3, 0, 0, 5,\n",
        "                    6, 7, 5, 0, 8])\n",
        "  \n",
        "print(\"Original array:\")\n",
        "print(n_array)\n",
        "  \n",
        "print(\"\\nIndices of elements equal to zero of the \\\n",
        "given 1-D array:\")\n",
        "  \n",
        "res = np.where(n_array == 0)[0]\n",
        "print(res)"
      ],
      "execution_count": 65,
      "outputs": [
        {
          "output_type": "stream",
          "name": "stdout",
          "text": [
            "Original array:\n",
            "[1 0 2 0 3 0 0 5 6 7 5 0 8]\n",
            "\n",
            "Indices of elements equal to zero of the given 1-D array:\n",
            "[ 1  3  5  6 11]\n"
          ]
        }
      ]
    },
    {
      "cell_type": "markdown",
      "metadata": {
        "id": "0WIHPbO6tNa9"
      },
      "source": [
        "**How to Remove columns in Numpy array that contains non-numeric values?**"
      ]
    },
    {
      "cell_type": "code",
      "metadata": {
        "colab": {
          "base_uri": "https://localhost:8080/"
        },
        "id": "hkVng6AWtOVf",
        "outputId": "1c54d0f0-0320-4b04-b0e8-522cb670bfe5"
      },
      "source": [
        "import numpy as np\n",
        "  \n",
        "n_arr = np.array([[10.5, 22.5, np.nan],\n",
        "                  [41, 52.5, np.nan]])\n",
        "  \n",
        "print(\"Given array: \")\n",
        "print(n_arr)\n",
        "  \n",
        "print(\"\\nRemove all columns containing non-numeric elements \")\n",
        "print(n_arr[:, ~np.isnan(n_arr).any(axis=0)])"
      ],
      "execution_count": 66,
      "outputs": [
        {
          "output_type": "stream",
          "name": "stdout",
          "text": [
            "Given array: \n",
            "[[10.5 22.5  nan]\n",
            " [41.  52.5  nan]]\n",
            "\n",
            "Remove all columns containing non-numeric elements \n",
            "[[10.5 22.5]\n",
            " [41.  52.5]]\n"
          ]
        }
      ]
    },
    {
      "cell_type": "markdown",
      "metadata": {
        "id": "FMjdxD3ktSta"
      },
      "source": [
        "**How to access different rows of a multidimensional NumPy array?**"
      ]
    },
    {
      "cell_type": "code",
      "metadata": {
        "colab": {
          "base_uri": "https://localhost:8080/"
        },
        "id": "7ewbNHQQtWLD",
        "outputId": "cca4e6cb-42e6-41e8-f713-d0a7d5199abe"
      },
      "source": [
        "import numpy as np\n",
        "  \n",
        "arr = np.array([[10, 20, 30], \n",
        "                [40, 5, 66], \n",
        "                [70, 88, 94]])\n",
        "  \n",
        "print(\"Given Array :\")\n",
        "print(arr)\n",
        "  \n",
        "res_arr = arr[[0,2]]\n",
        "print(\"\\nAccessed Rows :\")\n",
        "print(res_arr)"
      ],
      "execution_count": 67,
      "outputs": [
        {
          "output_type": "stream",
          "name": "stdout",
          "text": [
            "Given Array :\n",
            "[[10 20 30]\n",
            " [40  5 66]\n",
            " [70 88 94]]\n",
            "\n",
            "Accessed Rows :\n",
            "[[10 20 30]\n",
            " [70 88 94]]\n"
          ]
        }
      ]
    },
    {
      "cell_type": "markdown",
      "metadata": {
        "id": "xSDcXsDTtheO"
      },
      "source": [
        "**Get row numbers of NumPy array having element larger than X**"
      ]
    },
    {
      "cell_type": "code",
      "metadata": {
        "colab": {
          "base_uri": "https://localhost:8080/"
        },
        "id": "AWkaMc7Mtige",
        "outputId": "bbb96282-23d8-4b85-f308-ae552bc26183"
      },
      "source": [
        "import numpy\n",
        "\n",
        "arr = numpy.array([[1, 2, 3, 4, 5],\n",
        "\t\t\t\t[10, -3, 30, 4, 5],\n",
        "\t\t\t\t[3, 2, 5, -4, 5],\n",
        "\t\t\t\t[9, 7, 3, 6, 5]\n",
        "\t\t\t\t])\n",
        "\n",
        "X = 6\n",
        "\n",
        "print(\"Given Array:\\n\", arr)\n",
        "\n",
        "output = numpy.where(numpy.any(arr > X,\n",
        "\t\t\t\t\t\t\t\taxis = 1))\n",
        "\n",
        "print(\"Result:\\n\", output)\n"
      ],
      "execution_count": 68,
      "outputs": [
        {
          "output_type": "stream",
          "name": "stdout",
          "text": [
            "Given Array:\n",
            " [[ 1  2  3  4  5]\n",
            " [10 -3 30  4  5]\n",
            " [ 3  2  5 -4  5]\n",
            " [ 9  7  3  6  5]]\n",
            "Result:\n",
            " (array([1, 3]),)\n"
          ]
        }
      ]
    },
    {
      "cell_type": "markdown",
      "metadata": {
        "id": "amwkEMuzts5L"
      },
      "source": [
        "**Get filled the diagonals of NumPy array**"
      ]
    },
    {
      "cell_type": "code",
      "metadata": {
        "colab": {
          "base_uri": "https://localhost:8080/"
        },
        "id": "F4dWs-UPtt0G",
        "outputId": "b5eb951d-18fb-4c2a-eb79-c4efc9642e6d"
      },
      "source": [
        "import numpy as np\n",
        "  \n",
        "array = np.array([[1, 2], [2, 1]])\n",
        "np.fill_diagonal(array, 5)\n",
        "  \n",
        "print(array)"
      ],
      "execution_count": 69,
      "outputs": [
        {
          "output_type": "stream",
          "name": "stdout",
          "text": [
            "[[5 2]\n",
            " [2 5]]\n"
          ]
        }
      ]
    },
    {
      "cell_type": "markdown",
      "metadata": {
        "id": "tZ_a0ho5t0BO"
      },
      "source": [
        "**Check elements present in the NumPy array**"
      ]
    },
    {
      "cell_type": "code",
      "metadata": {
        "colab": {
          "base_uri": "https://localhost:8080/"
        },
        "id": "_XySzrpTt1DJ",
        "outputId": "cdbfc085-ef47-492f-ab2e-afe01c645101"
      },
      "source": [
        "import numpy as np\n",
        "  \n",
        "gfg1 = np.array([1, 2, 3, 4, 5])\n",
        "lis = [1, 3, 5]\n",
        "gfg = np.isin(gfg1, lis)\n",
        "  \n",
        "print(gfg)"
      ],
      "execution_count": 70,
      "outputs": [
        {
          "output_type": "stream",
          "name": "stdout",
          "text": [
            "[ True False  True False  True]\n"
          ]
        }
      ]
    },
    {
      "cell_type": "markdown",
      "metadata": {
        "id": "A9btjZEHt9_d"
      },
      "source": [
        "**Combined array index by index**"
      ]
    },
    {
      "cell_type": "code",
      "metadata": {
        "colab": {
          "base_uri": "https://localhost:8080/"
        },
        "id": "ZF2kvJC7t_Ax",
        "outputId": "99a6c1f6-391c-4f9d-bd2d-3062b80abe5d"
      },
      "source": [
        "import numpy as np\n",
        "  \n",
        "gfg1 = np.array([[10], [2], [13]])\n",
        "gfg2 = np.array([[41], [55], [6]])\n",
        "  \n",
        "print(np.dstack((gfg1, gfg2)))"
      ],
      "execution_count": 71,
      "outputs": [
        {
          "output_type": "stream",
          "name": "stdout",
          "text": [
            "[[[10 41]]\n",
            "\n",
            " [[ 2 55]]\n",
            "\n",
            " [[13  6]]]\n"
          ]
        }
      ]
    },
    {
      "cell_type": "markdown",
      "metadata": {
        "id": "TK5836lguFNo"
      },
      "source": [
        "# **Questions on NumPy Linear Algebra**"
      ]
    },
    {
      "cell_type": "markdown",
      "metadata": {
        "id": "bufDWuQhuJLe"
      },
      "source": [
        "**Find a matrix or vector norm using NumPy**"
      ]
    },
    {
      "cell_type": "code",
      "metadata": {
        "colab": {
          "base_uri": "https://localhost:8080/"
        },
        "id": "FttGQlj0ujtW",
        "outputId": "bde2b3a4-7616-4db5-d395-b873fb45bc29"
      },
      "source": [
        "import numpy as np\n",
        " \n",
        "vec = np.arange(10)\n",
        " \n",
        "vec_norm = np.linalg.norm(vec)\n",
        " \n",
        "print(\"Vector norm:\")\n",
        "print(vec_norm)"
      ],
      "execution_count": 72,
      "outputs": [
        {
          "output_type": "stream",
          "name": "stdout",
          "text": [
            "Vector norm:\n",
            "16.881943016134134\n"
          ]
        }
      ]
    },
    {
      "cell_type": "markdown",
      "metadata": {
        "id": "8MBtQPMJurSl"
      },
      "source": [
        "**Calculate the QR decomposition of a given matrix using NumPy**"
      ]
    },
    {
      "cell_type": "code",
      "metadata": {
        "colab": {
          "base_uri": "https://localhost:8080/"
        },
        "id": "9Et_xRQDusJ6",
        "outputId": "2ce9dce7-e838-4d33-8751-c23efa493157"
      },
      "source": [
        "import numpy as np\n",
        "  \n",
        "  \n",
        "matrix1 = np.array([[1, 2, 3], [3, 4, 5]])\n",
        "print(matrix1)\n",
        "  \n",
        "q, r = np.linalg.qr(matrix1)\n",
        "print('\\nQ:\\n', q)\n",
        "print('\\nR:\\n', r)"
      ],
      "execution_count": 73,
      "outputs": [
        {
          "output_type": "stream",
          "name": "stdout",
          "text": [
            "[[1 2 3]\n",
            " [3 4 5]]\n",
            "\n",
            "Q:\n",
            " [[-0.31622777 -0.9486833 ]\n",
            " [-0.9486833   0.31622777]]\n",
            "\n",
            "R:\n",
            " [[-3.16227766 -4.42718872 -5.69209979]\n",
            " [ 0.         -0.63245553 -1.26491106]]\n"
          ]
        }
      ]
    },
    {
      "cell_type": "markdown",
      "metadata": {
        "id": "sQeq_So-u2h9"
      },
      "source": [
        "**Compute the condition number of a given matrix using NumPy**"
      ]
    },
    {
      "cell_type": "code",
      "metadata": {
        "colab": {
          "base_uri": "https://localhost:8080/"
        },
        "id": "se6uZ06Wu3jN",
        "outputId": "dd19379f-3394-411a-9381-51a388cc3eca"
      },
      "source": [
        "import numpy as np\n",
        "  \n",
        "matrix = np.array([[4, 2], [3, 1]])\n",
        "  \n",
        "print(\"Original matrix:\")\n",
        "print(matrix)\n",
        "  \n",
        "result =  np.linalg.cond(matrix)\n",
        "  \n",
        "print(\"Condition number of the matrix:\")\n",
        "print(result)"
      ],
      "execution_count": 74,
      "outputs": [
        {
          "output_type": "stream",
          "name": "stdout",
          "text": [
            "Original matrix:\n",
            "[[4 2]\n",
            " [3 1]]\n",
            "Condition number of the matrix:\n",
            "14.933034373659254\n"
          ]
        }
      ]
    },
    {
      "cell_type": "markdown",
      "metadata": {
        "id": "3fitH0zfvCho"
      },
      "source": [
        "**Compute the eigenvalues and right eigenvectors of a given square array using NumPy?**"
      ]
    },
    {
      "cell_type": "code",
      "metadata": {
        "colab": {
          "base_uri": "https://localhost:8080/"
        },
        "id": "GVbQ9va3vDyy",
        "outputId": "3fd9d457-ec43-48a0-e127-5d2d7d728540"
      },
      "source": [
        "import numpy as np\n",
        "  \n",
        "m = np.array([[1, 2],\n",
        "              [2, 3]])\n",
        "  \n",
        "print(\"Printing the Original square array:\\n\",\n",
        "      m)\n",
        "  \n",
        "w, v = np.linalg.eig(m)\n",
        "  \n",
        "print(\"Printing the Eigen values of the given square array:\\n\",\n",
        "      w)\n",
        "  \n",
        "print(\"Printing Right eigenvectors of the given square array:\\n\",\n",
        "      v)"
      ],
      "execution_count": 76,
      "outputs": [
        {
          "output_type": "stream",
          "name": "stdout",
          "text": [
            "Printing the Original square array:\n",
            " [[1 2]\n",
            " [2 3]]\n",
            "Printing the Eigen values of the given square array:\n",
            " [-0.23606798  4.23606798]\n",
            "Printing Right eigenvectors of the given square array:\n",
            " [[-0.85065081 -0.52573111]\n",
            " [ 0.52573111 -0.85065081]]\n"
          ]
        }
      ]
    },
    {
      "cell_type": "markdown",
      "metadata": {
        "id": "6X27xH3tvUil"
      },
      "source": [
        "**Calculate the Euclidean distance using NumPy**"
      ]
    },
    {
      "cell_type": "code",
      "metadata": {
        "colab": {
          "base_uri": "https://localhost:8080/"
        },
        "id": "NCe5foZyvaZL",
        "outputId": "e33b1664-33ce-4428-d472-6af1a40bc332"
      },
      "source": [
        "import numpy as np\n",
        " \n",
        "point1 = np.array((1, 2, 3))\n",
        "point2 = np.array((1, 1, 1))\n",
        " \n",
        "dist = np.linalg.norm(point1 - point2)\n",
        " \n",
        "print(dist)"
      ],
      "execution_count": 77,
      "outputs": [
        {
          "output_type": "stream",
          "name": "stdout",
          "text": [
            "2.23606797749979\n"
          ]
        }
      ]
    },
    {
      "cell_type": "markdown",
      "metadata": {
        "id": "znVLMDNUvhwT"
      },
      "source": [
        "# **Questions on NumPy Random**"
      ]
    },
    {
      "cell_type": "markdown",
      "metadata": {
        "id": "KsZUMxcNvpfq"
      },
      "source": [
        "**Create a Numpy array with random values**"
      ]
    },
    {
      "cell_type": "code",
      "metadata": {
        "colab": {
          "base_uri": "https://localhost:8080/"
        },
        "id": "IIQt2gRnvx_g",
        "outputId": "560044f6-85c2-4b89-82be-b094d7ab768b"
      },
      "source": [
        "import numpy as np \n",
        "    \n",
        "b = np.empty(2, dtype = int) \n",
        "print(\"Matrix b: \\n\", b) \n",
        "    \n",
        "a = np.empty([2, 2], dtype = int) \n",
        "print(\"\\nMatrix a: \\n\", a) "
      ],
      "execution_count": 78,
      "outputs": [
        {
          "output_type": "stream",
          "name": "stdout",
          "text": [
            "Matrix b: \n",
            " [4597673265534552704 4616455406968633940]\n",
            "\n",
            "Matrix a: \n",
            " [[4605837200872309732 4602910584426550028]\n",
            " [4602910584426550028 4605837200872309732]]\n"
          ]
        }
      ]
    },
    {
      "cell_type": "markdown",
      "metadata": {
        "id": "lLzGJ6sJwNLf"
      },
      "source": [
        "**How to choose elements from the list with different probability using NumPy?**"
      ]
    },
    {
      "cell_type": "code",
      "metadata": {
        "colab": {
          "base_uri": "https://localhost:8080/"
        },
        "id": "bLup5nlCwOaC",
        "outputId": "946b3d10-0206-4d9a-d99d-349748c836ae"
      },
      "source": [
        "import numpy as np\n",
        "  \n",
        "num_list = [10, 20, 30, 40, 50]\n",
        "\n",
        "number = np.random.choice(num_list)\n",
        "  \n",
        "print(number)"
      ],
      "execution_count": 79,
      "outputs": [
        {
          "output_type": "stream",
          "name": "stdout",
          "text": [
            "10\n"
          ]
        }
      ]
    },
    {
      "cell_type": "markdown",
      "metadata": {
        "id": "ywJLdow9wgxY"
      },
      "source": [
        "**How to get weighted random choice in Python?**"
      ]
    },
    {
      "cell_type": "code",
      "metadata": {
        "colab": {
          "base_uri": "https://localhost:8080/"
        },
        "id": "Bzu-qLhfwiIB",
        "outputId": "9e1a342e-9aab-45e3-c3ca-e9fda8b8f898"
      },
      "source": [
        "import random\n",
        "\n",
        "\n",
        "sampleList = [100, 200, 300, 400, 500]\n",
        "\n",
        "randomList = random.choices(\n",
        "sampleList, weights=(10, 20, 30, 40, 50), k=5)\n",
        "\n",
        "print(randomList)\n"
      ],
      "execution_count": 80,
      "outputs": [
        {
          "output_type": "stream",
          "name": "stdout",
          "text": [
            "[400, 200, 100, 400, 500]\n"
          ]
        }
      ]
    },
    {
      "cell_type": "markdown",
      "metadata": {
        "id": "GaxJkhf7woam"
      },
      "source": [
        "**Generate Random Numbers From The Uniform Distribution using NumPy**"
      ]
    },
    {
      "cell_type": "code",
      "metadata": {
        "colab": {
          "base_uri": "https://localhost:8080/"
        },
        "id": "hdJLo6pHwq0a",
        "outputId": "1f9b36f0-ce66-4bf6-bc7c-ce9b11ceb584"
      },
      "source": [
        "import numpy as np\n",
        "  \n",
        "r = np.random.uniform(size=4)\n",
        "  \n",
        "print(r)"
      ],
      "execution_count": 81,
      "outputs": [
        {
          "output_type": "stream",
          "name": "stdout",
          "text": [
            "[0.49718243 0.00807122 0.28742011 0.29328806]\n"
          ]
        }
      ]
    },
    {
      "cell_type": "markdown",
      "metadata": {
        "id": "qzlsTABxw7zh"
      },
      "source": [
        "**Get Random Elements form geometric distribution**"
      ]
    },
    {
      "cell_type": "code",
      "metadata": {
        "colab": {
          "base_uri": "https://localhost:8080/",
          "height": 265
        },
        "id": "8fgMgGSSw8-7",
        "outputId": "75a3e421-8ca8-4310-ee1f-74ca297a0f4d"
      },
      "source": [
        "import numpy as np\n",
        "import matplotlib.pyplot as plt\n",
        "  \n",
        "gfg = np.random.geometric(0.65, 1000)\n",
        "  \n",
        "count, bins, ignored = plt.hist(gfg, 40, density = True)\n",
        "plt.show()"
      ],
      "execution_count": 82,
      "outputs": [
        {
          "output_type": "display_data",
          "data": {
            "image/png": "[encoded data removed]",
            "text/plain": [
              "<Figure size 432x288 with 1 Axes>"
            ]
          },
          "metadata": {
            "needs_background": "light"
          }
        }
      ]
    },
    {
      "cell_type": "markdown",
      "metadata": {
        "id": "9ai8BRK3xBI4"
      },
      "source": [
        ""
      ]
    },
    {
      "cell_type": "markdown",
      "metadata": {
        "id": "adZL4TJexFjt"
      },
      "source": [
        "**Get Random elements from Laplace distribution**"
      ]
    },
    {
      "cell_type": "code",
      "metadata": {
        "colab": {
          "base_uri": "https://localhost:8080/",
          "height": 265
        },
        "id": "Fe99z1khxHdv",
        "outputId": "49b5a607-e5b6-4164-ef60-ea1748baf73a"
      },
      "source": [
        "import numpy as np\n",
        "import matplotlib.pyplot as plt\n",
        "  \n",
        "gfg = np.random.laplace(1.45, 15, 1000)\n",
        "  \n",
        "count, bins, ignored = plt.hist(gfg, 30, density = True)\n",
        "plt.show()"
      ],
      "execution_count": 83,
      "outputs": [
        {
          "output_type": "display_data",
          "data": {
            "image/png": "[encoded data removed]",
            "text/plain": [
              "<Figure size 432x288 with 1 Axes>"
            ]
          },
          "metadata": {
            "needs_background": "light"
          }
        }
      ]
    },
    {
      "cell_type": "markdown",
      "metadata": {
        "id": "pNvc__szxVpL"
      },
      "source": [
        "**Return a Matrix of random values from a uniform distribution**"
      ]
    },
    {
      "cell_type": "code",
      "metadata": {
        "colab": {
          "base_uri": "https://localhost:8080/"
        },
        "id": "FhPZXQntxW0X",
        "outputId": "dbd84ab4-23a7-41c7-8d52-4cb40d2e9e28"
      },
      "source": [
        "import numpy as np\n",
        "import numpy.matlib\n",
        "  \n",
        "out_mat = np.matlib.rand((3, 4)) \n",
        "print (\"Output matrix : \", out_mat)"
      ],
      "execution_count": 84,
      "outputs": [
        {
          "output_type": "stream",
          "name": "stdout",
          "text": [
            "Output matrix :  [[0.77465971 0.66538122 0.59764065 0.33556253]\n",
            " [0.1588383  0.71992085 0.65847862 0.92460049]\n",
            " [0.89644755 0.00633777 0.05818636 0.29916443]]\n"
          ]
        }
      ]
    },
    {
      "cell_type": "markdown",
      "metadata": {
        "id": "K9zVOug5xfPs"
      },
      "source": [
        "**Return a Matrix of random values from a Gaussian distribution**"
      ]
    },
    {
      "cell_type": "code",
      "metadata": {
        "colab": {
          "base_uri": "https://localhost:8080/"
        },
        "id": "PJTrzek3xgpL",
        "outputId": "6acd494a-c4bb-40b4-d789-1bde080a499b"
      },
      "source": [
        "import numpy as np\n",
        "import numpy.matlib\n",
        "  \n",
        "out_mat = np.matlib.randn((3, 4)) \n",
        "print (\"Output matrix : \", out_mat) "
      ],
      "execution_count": 85,
      "outputs": [
        {
          "output_type": "stream",
          "name": "stdout",
          "text": [
            "Output matrix :  [[-1.23632449 -0.17947487  0.65476204  0.41383983]\n",
            " [ 0.40580611  0.30541878 -1.58847302  0.3210916 ]\n",
            " [ 0.60120587 -0.21776111  0.67533413 -1.55414632]]\n"
          ]
        }
      ]
    },
    {
      "cell_type": "markdown",
      "metadata": {
        "id": "mEmA3_t5x2X9"
      },
      "source": [
        "# **Questions on NumPy Sorting and Searching**"
      ]
    },
    {
      "cell_type": "markdown",
      "metadata": {
        "id": "VO57_JOLx4qU"
      },
      "source": [
        "**How to get the indices of the sorted array using NumPy in Python?**"
      ]
    },
    {
      "cell_type": "code",
      "metadata": {
        "colab": {
          "base_uri": "https://localhost:8080/"
        },
        "id": "fbbDnofGyelW",
        "outputId": "f8108e20-b126-4845-b429-3895c371d1e5"
      },
      "source": [
        "import numpy as np\n",
        "\n",
        "array = np.array([10, 52, 62, 16, 16, 54, 453])\n",
        "print(array)\n",
        "\n",
        "indices = np.argsort(array)\n",
        "print(indices)\n"
      ],
      "execution_count": 86,
      "outputs": [
        {
          "output_type": "stream",
          "name": "stdout",
          "text": [
            "[ 10  52  62  16  16  54 453]\n",
            "[0 3 4 1 5 2 6]\n"
          ]
        }
      ]
    },
    {
      "cell_type": "markdown",
      "metadata": {
        "id": "EnJfMZ_4ym4o"
      },
      "source": [
        "**Finding the k smallest values of a NumPy array**"
      ]
    },
    {
      "cell_type": "code",
      "metadata": {
        "colab": {
          "base_uri": "https://localhost:8080/"
        },
        "id": "E5wWE5YiyoP-",
        "outputId": "e3ce42bb-9af7-4910-dd3b-2af4e1791f8a"
      },
      "source": [
        "import numpy as np\n",
        "  \n",
        "arr = np.array([23, 12, 1, 3, 4, 5, 6])\n",
        "print(\"The Original Array Content\")\n",
        "print(arr)\n",
        "  \n",
        "k = 4\n",
        "  \n",
        "arr1 = np.sort(arr)\n",
        "  \n",
        "print(k, \"smallest elements of the array\")\n",
        "print(arr1[:k])"
      ],
      "execution_count": 87,
      "outputs": [
        {
          "output_type": "stream",
          "name": "stdout",
          "text": [
            "The Original Array Content\n",
            "[23 12  1  3  4  5  6]\n",
            "4 smallest elements of the array\n",
            "[1 3 4 5]\n"
          ]
        }
      ]
    },
    {
      "cell_type": "markdown",
      "metadata": {
        "id": "3-KjBEDKzh1a"
      },
      "source": [
        "**How to get the n-largest values of an array using NumPy?**"
      ]
    },
    {
      "cell_type": "code",
      "metadata": {
        "colab": {
          "base_uri": "https://localhost:8080/"
        },
        "id": "0WE_STZazket",
        "outputId": "783c6e72-0f90-4e1a-9f81-c12d654e8a7e"
      },
      "source": [
        "import numpy as np\n",
        "  \n",
        "arr = np.array([2, 0,  1, 5,\n",
        "                4, 1, 9])\n",
        "  \n",
        "print(\"Given array:\", arr)\n",
        "sorted_index_array = np.argsort(arr)\n",
        "  \n",
        "sorted_array = arr[sorted_index_array]\n",
        "  \n",
        "print(\"Sorted array:\", sorted_array)\n",
        "  \n",
        "n = 1\n",
        "rslt = sorted_array[-n : ]\n",
        "  \n",
        "print(\"{} largest value:\".format(n),\n",
        "      rslt[0])"
      ],
      "execution_count": 88,
      "outputs": [
        {
          "output_type": "stream",
          "name": "stdout",
          "text": [
            "Given array: [2 0 1 5 4 1 9]\n",
            "Sorted array: [0 1 1 2 4 5 9]\n",
            "1 largest value: 9\n"
          ]
        }
      ]
    },
    {
      "cell_type": "markdown",
      "metadata": {
        "id": "Kk0KHsYBzv-V"
      },
      "source": [
        "**Sort the values in a matrix**"
      ]
    },
    {
      "cell_type": "code",
      "metadata": {
        "colab": {
          "base_uri": "https://localhost:8080/"
        },
        "id": "ILuO0ckFzyPh",
        "outputId": "292711a0-9f9d-4d62-fe22-afadbc2d1bb9"
      },
      "source": [
        "import numpy as np\n",
        "             \n",
        "gfg = np.matrix('[4, 1; 12, 3]')\n",
        "             \n",
        "gfg.sort()\n",
        "   \n",
        "print(gfg)"
      ],
      "execution_count": 89,
      "outputs": [
        {
          "output_type": "stream",
          "name": "stdout",
          "text": [
            "[[ 1  4]\n",
            " [ 3 12]]\n"
          ]
        }
      ]
    },
    {
      "cell_type": "markdown",
      "metadata": {
        "id": "-uo6OUHaz5sc"
      },
      "source": [
        "**Filter out integers from float numpy array**"
      ]
    },
    {
      "cell_type": "code",
      "metadata": {
        "colab": {
          "base_uri": "https://localhost:8080/"
        },
        "id": "7gCSVpmBz7DB",
        "outputId": "76256977-15b4-4c99-c7e3-15b58002b967"
      },
      "source": [
        "import numpy as np\n",
        " \n",
        "ini_array = np.array([1.0, 1.2, 2.2, 2.0, 3.0, 2.0])\n",
        " \n",
        "print (\"initial array: \", str(ini_array))\n",
        " \n",
        "result = ini_array[ini_array != ini_array.astype(int)]\n",
        " \n",
        "print (\"final array\", result)"
      ],
      "execution_count": 90,
      "outputs": [
        {
          "output_type": "stream",
          "name": "stdout",
          "text": [
            "initial array:  [1.  1.2 2.2 2.  3.  2. ]\n",
            "final array [1.2 2.2]\n"
          ]
        }
      ]
    },
    {
      "cell_type": "markdown",
      "metadata": {
        "id": "Zi8MS9300Eut"
      },
      "source": [
        "**Find the indices into a sorted array**"
      ]
    },
    {
      "cell_type": "code",
      "metadata": {
        "colab": {
          "base_uri": "https://localhost:8080/"
        },
        "id": "C8QGixBX0GBL",
        "outputId": "9e1732c9-524a-4151-8d92-bee2942ef175"
      },
      "source": [
        "import numpy as geek\n",
        "  \n",
        "in_arr = [2, 3, 4, 5, 6]\n",
        "print (\"Input array: \", in_arr)\n",
        "  \n",
        "num = 4\n",
        "print(\"The number which we want to insert: \", num) \n",
        "    \n",
        "out_ind = geek.searchsorted(in_arr, num) \n",
        "print (\"Output indices to maintain sorted array: \", out_ind)"
      ],
      "execution_count": 91,
      "outputs": [
        {
          "output_type": "stream",
          "name": "stdout",
          "text": [
            "Input array:  [2, 3, 4, 5, 6]\n",
            "The number which we want to insert:  4\n",
            "Output indices to maintain sorted array:  2\n"
          ]
        }
      ]
    },
    {
      "cell_type": "markdown",
      "metadata": {
        "id": "upXN0QOa0cKl"
      },
      "source": [
        "# **Questions on NumPy Mathematics**"
      ]
    },
    {
      "cell_type": "markdown",
      "metadata": {
        "id": "j-YHCfrK0f1W"
      },
      "source": [
        "**How to get element-wise true division of an array using Numpy?**"
      ]
    },
    {
      "cell_type": "code",
      "metadata": {
        "colab": {
          "base_uri": "https://localhost:8080/"
        },
        "id": "QSOrByGR0iKh",
        "outputId": "8a8cf45b-d631-4495-94de-50a96d135de4"
      },
      "source": [
        "import numpy as np\n",
        "  \n",
        "x = np.arange(5)\n",
        "  \n",
        "print(\"Original array:\", \n",
        "      x)\n",
        "  \n",
        "rslt = np.true_divide(x, 4)\n",
        "  \n",
        "print(\"After the element-wise division:\", \n",
        "      rslt)"
      ],
      "execution_count": 92,
      "outputs": [
        {
          "output_type": "stream",
          "name": "stdout",
          "text": [
            "Original array: [0 1 2 3 4]\n",
            "After the element-wise division: [0.   0.25 0.5  0.75 1.  ]\n"
          ]
        }
      ]
    },
    {
      "cell_type": "markdown",
      "metadata": {
        "id": "9sjdWwKf0vP1"
      },
      "source": [
        "**How to calculate the element-wise absolute value of NumPy array?**"
      ]
    },
    {
      "cell_type": "code",
      "metadata": {
        "colab": {
          "base_uri": "https://localhost:8080/"
        },
        "id": "KqjhW_rT0zPy",
        "outputId": "af8e0a97-c9b4-400f-9627-0dc6c52ec085"
      },
      "source": [
        "import numpy as np\n",
        "  \n",
        "array = np.array([1, -2, 3])\n",
        "  \n",
        "print(\"Given array:\\n\", array)\n",
        "\n",
        "rslt = np.absolute(array)\n",
        "  \n",
        "print(\"Absolute array:\\n\", rslt)"
      ],
      "execution_count": 93,
      "outputs": [
        {
          "output_type": "stream",
          "name": "stdout",
          "text": [
            "Given array:\n",
            " [ 1 -2  3]\n",
            "Absolute array:\n",
            " [1 2 3]\n"
          ]
        }
      ]
    },
    {
      "cell_type": "markdown",
      "metadata": {
        "id": "nzFY4b7h1Ca7"
      },
      "source": [
        "**Compute the negative of the NumPy array**"
      ]
    },
    {
      "cell_type": "code",
      "metadata": {
        "colab": {
          "base_uri": "https://localhost:8080/"
        },
        "id": "rsLVednv1D8j",
        "outputId": "f62fb95a-661b-4157-93d8-76cef174d450"
      },
      "source": [
        "import numpy as geek\n",
        "in_num = 10\n",
        "  \n",
        "print (\"Input  number: \", in_num)\n",
        "    \n",
        "out_num = geek.negative(in_num) \n",
        "print (\"negative of input number: \", out_num) "
      ],
      "execution_count": 94,
      "outputs": [
        {
          "output_type": "stream",
          "name": "stdout",
          "text": [
            "Input  number:  10\n",
            "negative of input number:  -10\n"
          ]
        }
      ]
    },
    {
      "cell_type": "markdown",
      "metadata": {
        "id": "Uj-cs7GA1Vsu"
      },
      "source": [
        "**Multiply 2d numpy array corresponding to 1d array**"
      ]
    },
    {
      "cell_type": "code",
      "metadata": {
        "colab": {
          "base_uri": "https://localhost:8080/"
        },
        "id": "F3SBRJmU1Wua",
        "outputId": "cf35e909-a39d-40c5-d42f-9f4329abb966"
      },
      "source": [
        "import numpy as np\n",
        "  \n",
        "ini_array1 = np.array([[1, 2, 3], [2, 4, 5], [1, 2, 3]])\n",
        "ini_array2 = np.array([0, 2, 3])\n",
        "  \n",
        "print(\"initial array: \", str(ini_array1))\n",
        "  \n",
        "result = ini_array1 * ini_array2[:, np.newaxis]\n",
        "  \n",
        "print(\"New resulting array: \", result)"
      ],
      "execution_count": 95,
      "outputs": [
        {
          "output_type": "stream",
          "name": "stdout",
          "text": [
            "initial array:  [[1 2 3]\n",
            " [2 4 5]\n",
            " [1 2 3]]\n",
            "New resulting array:  [[ 0  0  0]\n",
            " [ 4  8 10]\n",
            " [ 3  6  9]]\n"
          ]
        }
      ]
    },
    {
      "cell_type": "markdown",
      "metadata": {
        "id": "h1LWzMda2KVB"
      },
      "source": [
        "**Computes the inner product of two arrays**"
      ]
    },
    {
      "cell_type": "code",
      "metadata": {
        "colab": {
          "base_uri": "https://localhost:8080/"
        },
        "id": "AtZ8cydY2LkA",
        "outputId": "34fc55d2-69db-4b0b-c670-bad820f6720d"
      },
      "source": [
        "import numpy as np \n",
        "  \n",
        "product = np.inner(5, 4) \n",
        "print(\"inner Product of scalar values : \", product) \n",
        "  \n",
        "vector_a = 2 + 3j\n",
        "vector_b = 4 + 5j\n",
        "  \n",
        "product = np.inner(vector_a, vector_b) \n",
        "print(\"inner Product: \", product) "
      ],
      "execution_count": 97,
      "outputs": [
        {
          "output_type": "stream",
          "name": "stdout",
          "text": [
            "inner Product of scalar values :  20\n",
            "inner Product:  (-7+22j)\n"
          ]
        }
      ]
    },
    {
      "cell_type": "markdown",
      "metadata": {
        "id": "hHVR8RuU2YeJ"
      },
      "source": [
        "**Compute the nth percentile of the NumPy array**"
      ]
    },
    {
      "cell_type": "code",
      "metadata": {
        "colab": {
          "base_uri": "https://localhost:8080/"
        },
        "id": "ZjFKF5Gs2Z_i",
        "outputId": "4d3c1ca7-ac5c-4f94-b8ab-6703be7ba1ff"
      },
      "source": [
        "import numpy as np\n",
        "   \n",
        "arr = [20, 2, 7, 1, 34]\n",
        "print(\"arr : \", arr)\n",
        "print(\"50th percentile of arr : \",\n",
        "       np.percentile(arr, 50))\n",
        "print(\"25th percentile of arr : \",\n",
        "       np.percentile(arr, 25))\n",
        "print(\"75th percentile of arr : \",\n",
        "       np.percentile(arr, 75))"
      ],
      "execution_count": 98,
      "outputs": [
        {
          "output_type": "stream",
          "name": "stdout",
          "text": [
            "arr :  [20, 2, 7, 1, 34]\n",
            "50th percentile of arr :  7.0\n",
            "25th percentile of arr :  2.0\n",
            "75th percentile of arr :  20.0\n"
          ]
        }
      ]
    },
    {
      "cell_type": "markdown",
      "metadata": {
        "id": "d4fbLOFi2par"
      },
      "source": [
        "**Calculate the n-th order discrete difference along the given axis**"
      ]
    },
    {
      "cell_type": "code",
      "metadata": {
        "colab": {
          "base_uri": "https://localhost:8080/"
        },
        "id": "6AOE-Pw82q7d",
        "outputId": "51d4b699-3f1c-4aa9-c159-59dead3a9e39"
      },
      "source": [
        "import numpy as np\n",
        " \n",
        "arr = np.array([1, 3, 4, 7, 9])\n",
        "  \n",
        "print(\"Input array: \", arr)\n",
        "print(\"First order difference: \", np.diff(arr))\n",
        "print(\"Second order difference: \", np.diff(arr, n = 2))\n",
        "print(\"Third order difference: \", np.diff(arr, n = 3))"
      ],
      "execution_count": 99,
      "outputs": [
        {
          "output_type": "stream",
          "name": "stdout",
          "text": [
            "Input array:  [1 3 4 7 9]\n",
            "First order difference:  [2 1 3 2]\n",
            "Second order difference:  [-1  2 -1]\n",
            "Third order difference:  [ 3 -3]\n"
          ]
        }
      ]
    },
    {
      "cell_type": "markdown",
      "metadata": {
        "id": "AAAE2hh923cD"
      },
      "source": [
        "**Calculate the sum of all columns in a 2D NumPy array**"
      ]
    },
    {
      "cell_type": "code",
      "metadata": {
        "colab": {
          "base_uri": "https://localhost:8080/"
        },
        "id": "epDYzjZT27qN",
        "outputId": "4bbb87ef-1400-439f-b774-8bc24618d201"
      },
      "source": [
        "import numpy\n",
        " \n",
        "def colsum(arr, n, m):\n",
        "    for i in range(n):\n",
        "        su = 0;\n",
        "        for j in range(m):\n",
        "            su += arr[j][i]\n",
        "        print(su, end = \" \")   \n",
        " \n",
        "TwoDList = [[1, 2, 3], [4, 5, 6],\n",
        "            [7, 8, 9], [10, 11, 12]]\n",
        "TwoDArray = numpy.array(TwoDList)\n",
        " \n",
        "print(\"2D Array: \")\n",
        "print(TwoDArray)\n",
        " \n",
        "print(\"\\nColumn-wise Sum: \")\n",
        "colsum(TwoDArray, len(TwoDArray[0]), len(TwoDArray))"
      ],
      "execution_count": 100,
      "outputs": [
        {
          "output_type": "stream",
          "name": "stdout",
          "text": [
            "2D Array: \n",
            "[[ 1  2  3]\n",
            " [ 4  5  6]\n",
            " [ 7  8  9]\n",
            " [10 11 12]]\n",
            "\n",
            "Column-wise Sum: \n",
            "22 26 30 "
          ]
        }
      ]
    },
    {
      "cell_type": "markdown",
      "metadata": {
        "id": "kaT8jH6P3I21"
      },
      "source": [
        "**Calculate average values of two given NumPy arrays**"
      ]
    },
    {
      "cell_type": "code",
      "metadata": {
        "colab": {
          "base_uri": "https://localhost:8080/"
        },
        "id": "gEtW4x133J6o",
        "outputId": "2a6b3907-86dd-4b1c-a271-337265ae296e"
      },
      "source": [
        "import numpy as np\n",
        "  \n",
        "arr1 = np.array([3, 4])\n",
        "arr2 = np.array([1, 0])\n",
        "  \n",
        "avg = (arr1 + arr2) / 2\n",
        "  \n",
        "print(\"Average of NumPy arrays:\\n\",\n",
        "      avg)"
      ],
      "execution_count": 101,
      "outputs": [
        {
          "output_type": "stream",
          "name": "stdout",
          "text": [
            "Average of NumPy arrays:\n",
            " [2. 2.]\n"
          ]
        }
      ]
    },
    {
      "cell_type": "markdown",
      "metadata": {
        "id": "rLZW7rz43OeS"
      },
      "source": [
        "**How to compute numerical negative value for all elements in a given NumPy array?**"
      ]
    },
    {
      "cell_type": "code",
      "metadata": {
        "colab": {
          "base_uri": "https://localhost:8080/"
        },
        "id": "Qy3QDWiU3RR_",
        "outputId": "441eef87-722f-4d84-bf1a-5d7297a22e63"
      },
      "source": [
        "import numpy as np\n",
        " \n",
        "x = np.array([-1, -2, -3,\n",
        "              1, 2, 3, 0])\n",
        " \n",
        "print(\"Printing the Original array: \",\n",
        "      x)\n",
        " \n",
        "r1 = np.negative(x)\n",
        " \n",
        "print(\"Printing the negative value of the given array: \",\n",
        "      r1)"
      ],
      "execution_count": 102,
      "outputs": [
        {
          "output_type": "stream",
          "name": "stdout",
          "text": [
            "Printing the Original array:  [-1 -2 -3  1  2  3  0]\n",
            "Printing the negative value of the given array:  [ 1  2  3 -1 -2 -3  0]\n"
          ]
        }
      ]
    },
    {
      "cell_type": "markdown",
      "metadata": {
        "id": "qPjjLqsC3lII"
      },
      "source": [
        "**How to get the floor, ceiling and truncated values of the elements of a numpy array?**"
      ]
    },
    {
      "cell_type": "code",
      "metadata": {
        "colab": {
          "base_uri": "https://localhost:8080/"
        },
        "id": "nfy7tKUc3ntT",
        "outputId": "5325670d-f123-4b70-862a-a899eaf5cef8"
      },
      "source": [
        "import numpy as np\n",
        "  \n",
        "a = np.array([1.2])\n",
        "  \n",
        "a = np.floor(a)\n",
        "print(a)"
      ],
      "execution_count": 103,
      "outputs": [
        {
          "output_type": "stream",
          "name": "stdout",
          "text": [
            "[1.]\n"
          ]
        }
      ]
    },
    {
      "cell_type": "markdown",
      "metadata": {
        "id": "m_Qulz3i31U9"
      },
      "source": [
        "**How to round elements of the NumPy array to the nearest integer?**"
      ]
    },
    {
      "cell_type": "code",
      "metadata": {
        "colab": {
          "base_uri": "https://localhost:8080/"
        },
        "id": "uX8uLxSS32hW",
        "outputId": "a0ca6de4-ddef-4d55-d3f2-da4d3807b991"
      },
      "source": [
        "import numpy as n\n",
        "  \n",
        "y = n.array([0.2, 0.3, 0.4, 0.5, 0.6, 0.7])\n",
        "print(\"Original array: \", end=\" \")\n",
        "print(y)\n",
        "  \n",
        "y = n.rint(y)\n",
        "print(\"After rounding off: \", end=\" \")\n",
        "print(y)"
      ],
      "execution_count": 104,
      "outputs": [
        {
          "output_type": "stream",
          "name": "stdout",
          "text": [
            "Original array:  [0.2 0.3 0.4 0.5 0.6 0.7]\n",
            "After rounding off:  [0. 0. 0. 0. 1. 1.]\n"
          ]
        }
      ]
    },
    {
      "cell_type": "markdown",
      "metadata": {
        "id": "PCp0yhmC4Mxs"
      },
      "source": [
        "**Find the round off the values of the given matrix**"
      ]
    },
    {
      "cell_type": "code",
      "metadata": {
        "colab": {
          "base_uri": "https://localhost:8080/"
        },
        "id": "BJUzHnMs4O9c",
        "outputId": "0b98468a-fb0f-45e7-9c20-1123f87af89b"
      },
      "source": [
        "import numpy as np\n",
        "           \n",
        "gfg = np.matrix('[6.4, 1.3; 12.7, 32.3]')\n",
        "           \n",
        "matrix = gfg.round()\n",
        "     \n",
        "print(matrix)"
      ],
      "execution_count": 105,
      "outputs": [
        {
          "output_type": "stream",
          "name": "stdout",
          "text": [
            "[[ 6.  1.]\n",
            " [13. 32.]]\n"
          ]
        }
      ]
    },
    {
      "cell_type": "markdown",
      "metadata": {
        "id": "yiw_mI_N4fK1"
      },
      "source": [
        "**Determine the positive square-root of an array**"
      ]
    },
    {
      "cell_type": "code",
      "metadata": {
        "colab": {
          "base_uri": "https://localhost:8080/"
        },
        "id": "RHzOO9Mb4gHW",
        "outputId": "477ed69d-c6b0-48de-f200-d944b7e2ff66"
      },
      "source": [
        "import numpy as np \n",
        "  \n",
        "arr1 = np.sqrt([1, 4, 9, 16])\n",
        "arr2 = np.sqrt([6, 10, 18])\n",
        "  \n",
        "print(\"square-root of an array1: \", arr1)\n",
        "print(\"square-root of an array2: \", arr2)"
      ],
      "execution_count": 106,
      "outputs": [
        {
          "output_type": "stream",
          "name": "stdout",
          "text": [
            "square-root of an array1:  [1. 2. 3. 4.]\n",
            "square-root of an array2:  [2.44948974 3.16227766 4.24264069]\n"
          ]
        }
      ]
    },
    {
      "cell_type": "markdown",
      "metadata": {
        "id": "j0RwZrsq4vz_"
      },
      "source": [
        "**Evaluate Einstein’s summation convention of two multidimensional NumPy arrays**"
      ]
    },
    {
      "cell_type": "code",
      "metadata": {
        "colab": {
          "base_uri": "https://localhost:8080/"
        },
        "id": "2Gc-f9a14w5V",
        "outputId": "de57e5f8-e644-4cc3-f4a3-4d20e0f101d0"
      },
      "source": [
        "import numpy as np\n",
        "  \n",
        "matrix1 = np.array([[1, 2], [0, 2]])\n",
        "matrix2 = np.array([[0, 1], [3, 4]])\n",
        "  \n",
        "print(\"Original matrix: \")\n",
        "print(matrix1)\n",
        "print(matrix2)\n",
        "  \n",
        "result = np.einsum(\"mk,kn\", matrix1, matrix2)\n",
        "  \n",
        "print(\"Einstein’s summation convention of the two matrix: \")\n",
        "print(result)"
      ],
      "execution_count": 107,
      "outputs": [
        {
          "output_type": "stream",
          "name": "stdout",
          "text": [
            "Original matrix: \n",
            "[[1 2]\n",
            " [0 2]]\n",
            "[[0 1]\n",
            " [3 4]]\n",
            "Einstein’s summation convention of the two matrix: \n",
            "[[6 9]\n",
            " [6 8]]\n"
          ]
        }
      ]
    },
    {
      "cell_type": "markdown",
      "metadata": {
        "id": "bi4KSz6S49Z1"
      },
      "source": [
        "# **Questions on NumPy Statistics**"
      ]
    },
    {
      "cell_type": "markdown",
      "metadata": {
        "id": "rsSzkZIv5G11"
      },
      "source": [
        "**Compute the median of the flattened NumPy array**"
      ]
    },
    {
      "cell_type": "code",
      "metadata": {
        "colab": {
          "base_uri": "https://localhost:8080/"
        },
        "id": "2_E4_CT65ImG",
        "outputId": "4bcc05be-4384-4729-f6db-570dd107aec4"
      },
      "source": [
        "import numpy as np\n",
        "  \n",
        "x_odd = np.array([1, 2, 3, 4, 5, 6, 7])\n",
        "print(\"\\nPrinting the Original array: \")\n",
        "print(x_odd)\n",
        "  \n",
        "med_odd = np.median(x_odd)\n",
        "print(\"\\nMedian of the array that contains \\\n",
        "odd no of elements: \")\n",
        "print(med_odd)"
      ],
      "execution_count": 108,
      "outputs": [
        {
          "output_type": "stream",
          "name": "stdout",
          "text": [
            "\n",
            "Printing the Original array: \n",
            "[1 2 3 4 5 6 7]\n",
            "\n",
            "Median of the array that contains odd no of elements: \n",
            "4.0\n"
          ]
        }
      ]
    },
    {
      "cell_type": "markdown",
      "metadata": {
        "id": "VxHcOoxR5U_V"
      },
      "source": [
        "**Find Mean of a List of Numpy Array**"
      ]
    },
    {
      "cell_type": "code",
      "metadata": {
        "colab": {
          "base_uri": "https://localhost:8080/"
        },
        "id": "pnhaOMDZ5WUG",
        "outputId": "fab186b4-301d-4820-cfa9-fa1d9b68bc51"
      },
      "source": [
        "import numpy as np\n",
        "  \n",
        "input = [np.array([11, 12, 13]),\n",
        "         np.array([14, 15, 16]),\n",
        "         np.array([17, 18, 19])]\n",
        "  \n",
        "output = []\n",
        "  \n",
        "for i in range(len(input)):\n",
        "   output.append(np.average(input[i]))\n",
        "  \n",
        "print(output)"
      ],
      "execution_count": 109,
      "outputs": [
        {
          "output_type": "stream",
          "name": "stdout",
          "text": [
            "[12.0, 15.0, 18.0]\n"
          ]
        }
      ]
    },
    {
      "cell_type": "markdown",
      "metadata": {
        "id": "MqOLMeBR5lUd"
      },
      "source": [
        "**Calculate the mean of array ignoring the NaN value**"
      ]
    },
    {
      "cell_type": "code",
      "metadata": {
        "colab": {
          "base_uri": "https://localhost:8080/"
        },
        "id": "lIo5JptA5ms6",
        "outputId": "5c8f3287-377c-44e6-c2a1-73d9f3c2b0db"
      },
      "source": [
        "import numpy as np\n",
        "   \n",
        "arr = np.array([[20, 15, 37], [47, 13, np.nan]])\n",
        "   \n",
        "print(\"Shape of array is \", arr.shape)\n",
        "   \n",
        "print(\"Mean of array without using nanmean function: \",\n",
        "                                           np.mean(arr))\n",
        "   \n",
        "print(\"Using nanmean function: \", np.nanmean(arr))"
      ],
      "execution_count": 110,
      "outputs": [
        {
          "output_type": "stream",
          "name": "stdout",
          "text": [
            "Shape of array is  (2, 3)\n",
            "Mean of array without using nanmean function:  nan\n",
            "Using nanmean function:  26.4\n"
          ]
        }
      ]
    },
    {
      "cell_type": "markdown",
      "metadata": {
        "id": "QKpSwL3e5zlS"
      },
      "source": [
        "**Get the mean value from given matrix**"
      ]
    },
    {
      "cell_type": "code",
      "metadata": {
        "colab": {
          "base_uri": "https://localhost:8080/"
        },
        "id": "EnhpXF4m54jO",
        "outputId": "a65ffac5-40cf-48dd-ece2-ccc93ae9bcbe"
      },
      "source": [
        "import numpy as np\n",
        "          \n",
        "gfg = np.matrix('[64, 1; 12, 3]')\n",
        "          \n",
        "matrix = gfg.mean()\n",
        "    \n",
        "print(matrix)"
      ],
      "execution_count": 111,
      "outputs": [
        {
          "output_type": "stream",
          "name": "stdout",
          "text": [
            "20.0\n"
          ]
        }
      ]
    },
    {
      "cell_type": "markdown",
      "metadata": {
        "id": "v0lRfyEA6BxW"
      },
      "source": [
        "**Compute the variance of the NumPy array**"
      ]
    },
    {
      "cell_type": "code",
      "metadata": {
        "colab": {
          "base_uri": "https://localhost:8080/"
        },
        "id": "mxhR5xG66XSy",
        "outputId": "cd46a966-c326-40fb-b046-cf7e6416cc7c"
      },
      "source": [
        "import numpy as np \n",
        "      \n",
        "arr = [20, 2, 7, 1, 34] \n",
        "  \n",
        "print(\"arr: \", arr) \n",
        "print(\"var of arr: \", np.var(arr)) \n",
        "  \n",
        "print(\"\\nvar of arr: \", np.var(arr, dtype = np.float32)) \n",
        "print(\"\\nvar of arr: \", np.var(arr, dtype = np.float64))"
      ],
      "execution_count": 112,
      "outputs": [
        {
          "output_type": "stream",
          "name": "stdout",
          "text": [
            "arr:  [20, 2, 7, 1, 34]\n",
            "var of arr:  158.16\n",
            "\n",
            "var of arr:  158.16\n",
            "\n",
            "var of arr:  158.16\n"
          ]
        }
      ]
    },
    {
      "cell_type": "markdown",
      "metadata": {
        "id": "2DIqX6nW6066"
      },
      "source": [
        "**Compute the standard deviation of the NumPy array**"
      ]
    },
    {
      "cell_type": "code",
      "metadata": {
        "colab": {
          "base_uri": "https://localhost:8080/"
        },
        "id": "pq7cqyWy62st",
        "outputId": "ae5e9d92-a717-4f56-f4bc-aab04d322ebd"
      },
      "source": [
        "import numpy as np\n",
        "    \n",
        "arr = [20, 2, 7, 1, 34]\n",
        "  \n",
        "print(\"arr: \", arr) \n",
        "print(\"std of arr: \", np.std(arr))\n",
        "  \n",
        "print (\"\\nMore precision with float32\")\n",
        "print(\"std of arr: \", np.std(arr, dtype = np.float32))\n",
        "  \n",
        "print (\"\\nMore accuracy with float64\")\n",
        "print(\"std of arr: \", np.std(arr, dtype = np.float64))"
      ],
      "execution_count": 113,
      "outputs": [
        {
          "output_type": "stream",
          "name": "stdout",
          "text": [
            "arr:  [20, 2, 7, 1, 34]\n",
            "std of arr:  12.576167937809991\n",
            "\n",
            "More precision with float32\n",
            "std of arr:  12.576168\n",
            "\n",
            "More accuracy with float64\n",
            "std of arr:  12.576167937809991\n"
          ]
        }
      ]
    },
    {
      "cell_type": "markdown",
      "metadata": {
        "id": "9RryPmYE7Gn7"
      },
      "source": [
        "**Compute pearson product-moment correlation coefficients of two given NumPy arrays**"
      ]
    },
    {
      "cell_type": "code",
      "metadata": {
        "colab": {
          "base_uri": "https://localhost:8080/"
        },
        "id": "C9nxEyzX7IEs",
        "outputId": "cbbd57fc-db64-4297-d16b-2ac60e5ae98f"
      },
      "source": [
        "import numpy as np\n",
        "  \n",
        "array1 = np.array([0, 1, 2])\n",
        "array2 = np.array([3, 4, 5])\n",
        "\n",
        "rslt = np.corrcoef(array1, array2)\n",
        "  \n",
        "print(rslt)"
      ],
      "execution_count": 114,
      "outputs": [
        {
          "output_type": "stream",
          "name": "stdout",
          "text": [
            "[[1. 1.]\n",
            " [1. 1.]]\n"
          ]
        }
      ]
    },
    {
      "cell_type": "markdown",
      "metadata": {
        "id": "tWdSZZAG7PkC"
      },
      "source": [
        "**Calculate the mean across dimension in a 2D NumPy array**"
      ]
    },
    {
      "cell_type": "code",
      "metadata": {
        "colab": {
          "base_uri": "https://localhost:8080/"
        },
        "id": "IsT4H1Qr7Qno",
        "outputId": "2a7f4e5c-91c8-4ba7-cbe3-85ab4bfe3111"
      },
      "source": [
        "import numpy as np\n",
        "  \n",
        "arr = np.array([[1, 2, 3], [4, 5, 6], [7, 8, 9]])\n",
        "  \n",
        "row_mean = np.mean(arr, axis=1)\n",
        "  \n",
        "row1_mean = row_mean[0]\n",
        "print(\"Mean of Row 1 is\", row1_mean)\n",
        "  \n",
        "row2_mean = row_mean[1]\n",
        "print(\"Mean of Row 2 is\", row2_mean)\n",
        "  \n",
        "row3_mean = row_mean[2]\n",
        "print(\"Mean of Row 3 is\", row3_mean)\n",
        "  \n",
        "column_mean = np.mean(arr, axis=0)\n",
        "  \n",
        "column1_mean = column_mean[0]\n",
        "print(\"Mean of column 1 is\", column1_mean)\n",
        "  \n",
        "column2_mean = column_mean[1]\n",
        "print(\"Mean of column 2 is\", column2_mean)\n",
        "  \n",
        "column3_mean = column_mean[2]\n",
        "print(\"Mean of column 3 is\", column3_mean)"
      ],
      "execution_count": 115,
      "outputs": [
        {
          "output_type": "stream",
          "name": "stdout",
          "text": [
            "Mean of Row 1 is 2.0\n",
            "Mean of Row 2 is 5.0\n",
            "Mean of Row 3 is 8.0\n",
            "Mean of column 1 is 4.0\n",
            "Mean of column 2 is 5.0\n",
            "Mean of column 3 is 6.0\n"
          ]
        }
      ]
    },
    {
      "cell_type": "markdown",
      "metadata": {
        "id": "9TNBYi1n7b9T"
      },
      "source": [
        "**Calculate the average, variance and standard deviation in Python using NumPy**"
      ]
    },
    {
      "cell_type": "code",
      "metadata": {
        "colab": {
          "base_uri": "https://localhost:8080/"
        },
        "id": "iZOIwXUB7dLD",
        "outputId": "74168bab-4150-4c2b-e713-baef23ddc2b2"
      },
      "source": [
        "import numpy as np\n",
        " \n",
        "list = [2, 4, 4, 4, 5, 5, 7, 9]\n",
        " \n",
        "print(np.average(list))"
      ],
      "execution_count": 116,
      "outputs": [
        {
          "output_type": "stream",
          "name": "stdout",
          "text": [
            "5.0\n"
          ]
        }
      ]
    },
    {
      "cell_type": "markdown",
      "metadata": {
        "id": "lfxVXQnU7iTI"
      },
      "source": [
        "**Describe a NumPy Array in Python**"
      ]
    },
    {
      "cell_type": "code",
      "metadata": {
        "colab": {
          "base_uri": "https://localhost:8080/"
        },
        "id": "K6Dkriqq7mRo",
        "outputId": "57d716d6-b467-4574-db29-5c52008cd1cc"
      },
      "source": [
        "\n",
        "import numpy as np\n",
        " \n",
        "arr = np.array([4, 5, 8, 5, 6, 4,\n",
        "                9, 2, 4, 3, 6])\n",
        "print(arr)"
      ],
      "execution_count": 117,
      "outputs": [
        {
          "output_type": "stream",
          "name": "stdout",
          "text": [
            "[4 5 8 5 6 4 9 2 4 3 6]\n"
          ]
        }
      ]
    },
    {
      "cell_type": "markdown",
      "metadata": {
        "id": "jrkiNqRI7rlC"
      },
      "source": [
        "# **Questions on Polynomial**"
      ]
    },
    {
      "cell_type": "markdown",
      "metadata": {
        "id": "2rkZOj6y7tC7"
      },
      "source": [
        "**Define a polynomial function**"
      ]
    },
    {
      "cell_type": "code",
      "metadata": {
        "colab": {
          "base_uri": "https://localhost:8080/"
        },
        "id": "vLTdhn-G7vih",
        "outputId": "bf9cc20b-18bc-449a-c459-49f8d8f85dbf"
      },
      "source": [
        "import numpy as np\n",
        "  \n",
        "p1 = np.poly1d([1, 2])\n",
        "p2 = np.poly1d([4, 9, 5, 4])\n",
        "  \n",
        "print (\"P1: \", p1)\n",
        "print (\"\\n p2: \\n\", p2)\n",
        "  \n",
        "print (\"\\n\\np1 at x = 2: \", p1(2))\n",
        "print (\"p2 at x = 2: \", p2(2))\n",
        "  \n",
        "print (\"\\n\\nRoots of P1: \", p1.r)\n",
        "print (\"Roots of P2: \", p2.r)\n",
        "  \n",
        "print (\"\\n\\nCoefficients of P1: \", p1.c)\n",
        "print (\"Coefficients of P2: \", p2.coeffs)\n",
        "  \n",
        "print (\"\\n\\nOrder / Degree of P1: \", p1.o)\n",
        "print (\"Order / Degree of P2: \", p2.order)"
      ],
      "execution_count": 118,
      "outputs": [
        {
          "output_type": "stream",
          "name": "stdout",
          "text": [
            "P1:   \n",
            "1 x + 2\n",
            "\n",
            " p2: \n",
            "    3     2\n",
            "4 x + 9 x + 5 x + 4\n",
            "\n",
            "\n",
            "p1 at x = 2:  4\n",
            "p2 at x = 2:  82\n",
            "\n",
            "\n",
            "Roots of P1:  [-2.]\n",
            "Roots of P2:  [-1.86738371+0.j         -0.19130814+0.70633545j -0.19130814-0.70633545j]\n",
            "\n",
            "\n",
            "Coefficients of P1:  [1 2]\n",
            "Coefficients of P2:  [4 9 5 4]\n",
            "\n",
            "\n",
            "Order / Degree of P1:  1\n",
            "Order / Degree of P2:  3\n"
          ]
        }
      ]
    },
    {
      "cell_type": "markdown",
      "metadata": {
        "id": "k_AH9Tem8D62"
      },
      "source": [
        "**How to add one polynomial to another using NumPy in Python?**"
      ]
    },
    {
      "cell_type": "code",
      "metadata": {
        "colab": {
          "base_uri": "https://localhost:8080/"
        },
        "id": "a83rDuaj8FFk",
        "outputId": "a1463be8-3c62-42f4-ae9b-5ffe86368737"
      },
      "source": [
        "import numpy\n",
        "  \n",
        "# p(x) = 5(x**2) + (-2)x +5\n",
        "px = (5,-2,5)\n",
        "  \n",
        "# q(x) = 2(x**2) + (-5)x +2\n",
        "qx = (2,-5,2)\n",
        "  \n",
        "rx = numpy.polynomial.polynomial.polyadd(px,qx)\n",
        "  \n",
        "print(rx)"
      ],
      "execution_count": 119,
      "outputs": [
        {
          "output_type": "stream",
          "name": "stdout",
          "text": [
            "[ 7. -7.  7.]\n"
          ]
        }
      ]
    },
    {
      "cell_type": "markdown",
      "metadata": {
        "id": "7Bz-a0BQ8RMh"
      },
      "source": [
        "**How to subtract one polynomial to another using NumPy in Python?**"
      ]
    },
    {
      "cell_type": "code",
      "metadata": {
        "colab": {
          "base_uri": "https://localhost:8080/"
        },
        "id": "AW1O57G38SDB",
        "outputId": "8c33950b-e12a-4a67-f43c-02a5b6de8f7f"
      },
      "source": [
        "import numpy\n",
        "  \n",
        "# p(x) = 5(x**2) + (-2)x +5\n",
        "px = (5,-2,5)\n",
        "  \n",
        "# q(x) = 2(x**2) + (-5)x +2\n",
        "qx = (2,-5,2)\n",
        "  \n",
        "rx = numpy.polynomial.polynomial.polysub(px,qx)\n",
        "  \n",
        "print(rx)"
      ],
      "execution_count": 120,
      "outputs": [
        {
          "output_type": "stream",
          "name": "stdout",
          "text": [
            "[3. 3. 3.]\n"
          ]
        }
      ]
    },
    {
      "cell_type": "markdown",
      "metadata": {
        "id": "rYROuxZB8bN4"
      },
      "source": [
        "**How to multiply a polynomial to another using NumPy in Python?**"
      ]
    },
    {
      "cell_type": "code",
      "metadata": {
        "colab": {
          "base_uri": "https://localhost:8080/"
        },
        "id": "Ya6Ierg98cou",
        "outputId": "d49332e5-19d3-4e18-8c5b-e5f229d26d49"
      },
      "source": [
        "import numpy\n",
        "  \n",
        "# p(x) = 5(x**2) + (-2)x +5\n",
        "  \n",
        "px = (5, -2, 5)\n",
        "# q(x) = 2(x**2) + (-5)x +2\n",
        "qx = (2, -5, 2)\n",
        "  \n",
        "rx = numpy.polynomial.polynomial.polymul(px, qx)\n",
        "  \n",
        "print(rx)"
      ],
      "execution_count": 121,
      "outputs": [
        {
          "output_type": "stream",
          "name": "stdout",
          "text": [
            "[ 10. -29.  30. -29.  10.]\n"
          ]
        }
      ]
    },
    {
      "cell_type": "markdown",
      "metadata": {
        "id": "pDz6qwbN8lm0"
      },
      "source": [
        "**How to divide a polynomial to another using NumPy in Python?**"
      ]
    },
    {
      "cell_type": "code",
      "metadata": {
        "colab": {
          "base_uri": "https://localhost:8080/"
        },
        "id": "eSLekVvq8mkQ",
        "outputId": "8f5100dc-026a-4e46-fb01-64ebe45e54f0"
      },
      "source": [
        "import numpy\n",
        "  \n",
        "# p(x) = 5(x**2) + (-2)x +5\n",
        "px = (5, -2, 5)\n",
        "  \n",
        "# g(x) = x +2\n",
        "gx = (2, 1, 0)\n",
        "  \n",
        "qx, rx = numpy.polynomial.polynomial.polydiv(px, gx)\n",
        "\n",
        "print(qx)\n",
        "  \n",
        "print(rx)"
      ],
      "execution_count": 122,
      "outputs": [
        {
          "output_type": "stream",
          "name": "stdout",
          "text": [
            "[-12.   5.]\n",
            "[29.]\n"
          ]
        }
      ]
    },
    {
      "cell_type": "markdown",
      "metadata": {
        "id": "prjEG4Bj8uhc"
      },
      "source": [
        "**Find the roots of the polynomials using NumPy**"
      ]
    },
    {
      "cell_type": "code",
      "metadata": {
        "colab": {
          "base_uri": "https://localhost:8080/"
        },
        "id": "t_uF-dl28vrK",
        "outputId": "377623bf-7deb-4224-a028-4645c99738e9"
      },
      "source": [
        "import numpy as np\n",
        "  \n",
        "coeff = [1, 2, 1]\n",
        "print(np.roots(coeff))"
      ],
      "execution_count": 123,
      "outputs": [
        {
          "output_type": "stream",
          "name": "stdout",
          "text": [
            "[-1. -1.]\n"
          ]
        }
      ]
    },
    {
      "cell_type": "markdown",
      "metadata": {
        "id": "fvBcMRLg820b"
      },
      "source": [
        "**Evaluate a 2-D polynomial series on the Cartesian product**"
      ]
    },
    {
      "cell_type": "code",
      "metadata": {
        "colab": {
          "base_uri": "https://localhost:8080/"
        },
        "id": "ADtVLR5884z5",
        "outputId": "39563cb8-2350-4a1e-b960-5e2e431e2168"
      },
      "source": [
        "import numpy as np \n",
        "from numpy.polynomial.polynomial import polygrid2d\n",
        "  \n",
        "c = np.array([[1, 3, 5], [2, 4, 6]]) \n",
        "  \n",
        "ans = polygrid2d([7, 9], [8, 10], c)\n",
        "print(ans)"
      ],
      "execution_count": 124,
      "outputs": [
        {
          "output_type": "stream",
          "name": "stdout",
          "text": [
            "[[3271. 5025.]\n",
            " [4107. 6309.]]\n"
          ]
        }
      ]
    },
    {
      "cell_type": "markdown",
      "metadata": {
        "id": "7WPTQEfx9Do5"
      },
      "source": [
        "**Evaluate a 3-D polynomial series on the Cartesian product**"
      ]
    },
    {
      "cell_type": "code",
      "metadata": {
        "colab": {
          "base_uri": "https://localhost:8080/"
        },
        "id": "qrgGfjPc9E8w",
        "outputId": "02d1987d-a9b2-4098-c2cb-bd813004ca11"
      },
      "source": [
        "import numpy as np \n",
        "from numpy.polynomial.polynomial import polygrid3d\n",
        "  \n",
        "c = np.array([[1, 3, 5], [2, 4, 6], [10, 11, 12]]) \n",
        "  \n",
        "ans = polygrid3d([7, 9], [8, 10], [5, 6], c)\n",
        "print(ans)"
      ],
      "execution_count": 125,
      "outputs": [
        {
          "output_type": "stream",
          "name": "stdout",
          "text": [
            "[[416970. 491223.]\n",
            " [635850. 749079.]]\n"
          ]
        }
      ]
    },
    {
      "cell_type": "markdown",
      "metadata": {
        "id": "DkjGiXgJ9Mn0"
      },
      "source": [
        "# **Questions on NumPy Strings**"
      ]
    },
    {
      "cell_type": "markdown",
      "metadata": {
        "id": "dVcmcupS9NzD"
      },
      "source": [
        "**Repeat all the elements of a NumPy array of strings**"
      ]
    },
    {
      "cell_type": "code",
      "metadata": {
        "colab": {
          "base_uri": "https://localhost:8080/"
        },
        "id": "G1f28szg9Tj0",
        "outputId": "4c8d3137-6034-4c64-ab18-50d7b04e431b"
      },
      "source": [
        "import numpy as np\n",
        "  \n",
        "arr = np.array(['Akash', 'Rohit', 'Ayush', \n",
        "                'Dhruv', 'Radhika'], dtype = np.str)\n",
        "print(\"Original Array: \")\n",
        "print(arr)\n",
        "  \n",
        "new_array = np.char.multiply(arr, 3)\n",
        "print(\"\\nNew array: \")\n",
        "print(new_array)"
      ],
      "execution_count": 126,
      "outputs": [
        {
          "output_type": "stream",
          "name": "stdout",
          "text": [
            "Original Array: \n",
            "['Akash' 'Rohit' 'Ayush' 'Dhruv' 'Radhika']\n",
            "\n",
            "New array: \n",
            "['AkashAkashAkash' 'RohitRohitRohit' 'AyushAyushAyush' 'DhruvDhruvDhruv'\n",
            " 'RadhikaRadhikaRadhika']\n"
          ]
        }
      ]
    },
    {
      "cell_type": "markdown",
      "metadata": {
        "id": "bCGBNUGN9b-S"
      },
      "source": [
        "**How to split the element of a given NumPy array with spaces?**"
      ]
    },
    {
      "cell_type": "code",
      "metadata": {
        "colab": {
          "base_uri": "https://localhost:8080/"
        },
        "id": "T7lNamhF9gRi",
        "outputId": "9d184ae9-5fd6-478b-d271-d139e1292413"
      },
      "source": [
        "import numpy as np\n",
        "  \n",
        "array = np.array(['PHP C# Python C Java C++'], dtype=np.str)\n",
        "print(array)\n",
        "  \n",
        "sparr = np.char.split(array)\n",
        "print(sparr)"
      ],
      "execution_count": 127,
      "outputs": [
        {
          "output_type": "stream",
          "name": "stdout",
          "text": [
            "['PHP C# Python C Java C++']\n",
            "[list(['PHP', 'C#', 'Python', 'C', 'Java', 'C++'])]\n"
          ]
        }
      ]
    },
    {
      "cell_type": "markdown",
      "metadata": {
        "id": "uF58Sqfg9nbb"
      },
      "source": [
        "**How to insert a space between characters of all the elements of a given NumPy array?**"
      ]
    },
    {
      "cell_type": "code",
      "metadata": {
        "colab": {
          "base_uri": "https://localhost:8080/"
        },
        "id": "gRnSsSkA9ph1",
        "outputId": "a3c7611c-da63-4d65-9e93-fb13ef9323d6"
      },
      "source": [
        "import numpy as np\n",
        "  \n",
        "x = np.array([\"ana\", \"lucia\", \"ferreira\"],\n",
        "             dtype=np.str)\n",
        "print(\"Printing the Original Array: \")\n",
        "print(x)\n",
        "  \n",
        "r = np.char.join(\" \", x)\n",
        "print(\"Printing the array after inserting space\\\n",
        "between the elements\")\n",
        "print(r)"
      ],
      "execution_count": 131,
      "outputs": [
        {
          "output_type": "stream",
          "name": "stdout",
          "text": [
            "Printing the Original Array: \n",
            "['ana' 'lucia' 'ferreira']\n",
            "Printing the array after inserting spacebetween the elements\n",
            "['a n a' 'l u c i a' 'f e r r e i r a']\n"
          ]
        }
      ]
    },
    {
      "cell_type": "markdown",
      "metadata": {
        "id": "6oqHd4o39-kG"
      },
      "source": [
        "**Find the length of each string element in the Numpy array**"
      ]
    },
    {
      "cell_type": "code",
      "metadata": {
        "colab": {
          "base_uri": "https://localhost:8080/"
        },
        "id": "77rkIDjF9_sh",
        "outputId": "c1e4f9db-da5c-459a-dac9-0864374a7c0c"
      },
      "source": [
        "import numpy as np\n",
        "  \n",
        "arr = np.array(['New York', 'Lisbon', 'Beijing', 'Quebec'])\n",
        "  \n",
        "print(arr)"
      ],
      "execution_count": 130,
      "outputs": [
        {
          "output_type": "stream",
          "name": "stdout",
          "text": [
            "['New York' 'Lisbon' 'Beijing' 'Quebec']\n"
          ]
        }
      ]
    },
    {
      "cell_type": "markdown",
      "metadata": {
        "id": "xNqNmQRx-SNI"
      },
      "source": [
        "**Swap the case of an array of string**"
      ]
    },
    {
      "cell_type": "code",
      "metadata": {
        "colab": {
          "base_uri": "https://localhost:8080/"
        },
        "id": "p5oQQZNh-TYU",
        "outputId": "1b9080f8-f281-4a4d-8464-e5206dee18c1"
      },
      "source": [
        "import numpy as geek \n",
        "  \n",
        "in_arr = geek.array(['P4Q R', '4q Rp', 'Q Rp4', 'rp4q'])\n",
        "print (\"input array: \", in_arr)\n",
        "  \n",
        "out_arr = geek.char.swapcase(in_arr)\n",
        "print (\"output swapcasecased array: \", out_arr)"
      ],
      "execution_count": 132,
      "outputs": [
        {
          "output_type": "stream",
          "name": "stdout",
          "text": [
            "input array:  ['P4Q R' '4q Rp' 'Q Rp4' 'rp4q']\n",
            "output swapcasecased array:  ['p4q r' '4Q rP' 'q rP4' 'RP4Q']\n"
          ]
        }
      ]
    },
    {
      "cell_type": "markdown",
      "metadata": {
        "id": "4AQImOw2-e9G"
      },
      "source": [
        "**Change the case to uppercase of elements of an array**"
      ]
    },
    {
      "cell_type": "code",
      "metadata": {
        "colab": {
          "base_uri": "https://localhost:8080/"
        },
        "id": "mMeWZisu-giT",
        "outputId": "e4991a76-48d3-49ab-e805-6e9acae0f2b8"
      },
      "source": [
        "import numpy as np \n",
        "  \n",
        "in_arr = np.array(['p4q r', '4q rp', 'q rp4', 'rp4q'])\n",
        "print (\"input array: \", in_arr)\n",
        "  \n",
        "out_arr = np.char.upper(in_arr)\n",
        "print (\"output uppercased array:\", out_arr)"
      ],
      "execution_count": 133,
      "outputs": [
        {
          "output_type": "stream",
          "name": "stdout",
          "text": [
            "input array:  ['p4q r' '4q rp' 'q rp4' 'rp4q']\n",
            "output uppercased array: ['P4Q R' '4Q RP' 'Q RP4' 'RP4Q']\n"
          ]
        }
      ]
    },
    {
      "cell_type": "markdown",
      "metadata": {
        "id": "6nrmoFts-qaK"
      },
      "source": [
        "**Change the case to lowercase of elements of an array**"
      ]
    },
    {
      "cell_type": "code",
      "metadata": {
        "colab": {
          "base_uri": "https://localhost:8080/"
        },
        "id": "y9y3g0q2-rko",
        "outputId": "667fd6e1-398d-4c4c-c33a-ae170cbff45e"
      },
      "source": [
        "import numpy as np \n",
        "  \n",
        "  \n",
        "in_arr = np.array(['P4Q R', '4Q RP', 'Q RP4', 'RP4Q'])\n",
        "print (\"input array: \", in_arr)\n",
        "  \n",
        "out_arr = np.char.lower(in_arr)\n",
        "print (\"output lowercased array:\", out_arr)"
      ],
      "execution_count": 134,
      "outputs": [
        {
          "output_type": "stream",
          "name": "stdout",
          "text": [
            "input array:  ['P4Q R' '4Q RP' 'Q RP4' 'RP4Q']\n",
            "output lowercased array: ['p4q r' '4q rp' 'q rp4' 'rp4q']\n"
          ]
        }
      ]
    },
    {
      "cell_type": "markdown",
      "metadata": {
        "id": "xQP2grlx-0su"
      },
      "source": [
        "**Join String by a seperator**"
      ]
    },
    {
      "cell_type": "code",
      "metadata": {
        "colab": {
          "base_uri": "https://localhost:8080/"
        },
        "id": "T3NP7O0f-4PW",
        "outputId": "983b43a5-9ca3-472f-894d-d5793cfff583"
      },
      "source": [
        "import numpy as np\n",
        "  \n",
        "in_arr = np.array(['Python', 'Numpy', 'Pandas'])\n",
        "print (\"Input original array: \", in_arr) \n",
        "  \n",
        "sep = np.array(['-', '+', '*'])\n",
        "  \n",
        "out_arr = np.core.defchararray.join(sep, in_arr)\n",
        "print (\"Output joined array: \", out_arr) "
      ],
      "execution_count": 135,
      "outputs": [
        {
          "output_type": "stream",
          "name": "stdout",
          "text": [
            "Input original array:  ['Python' 'Numpy' 'Pandas']\n",
            "Output joined array:  ['P-y-t-h-o-n' 'N+u+m+p+y' 'P*a*n*d*a*s']\n"
          ]
        }
      ]
    },
    {
      "cell_type": "markdown",
      "metadata": {
        "id": "1x2LrdgX-_Ic"
      },
      "source": [
        "**Check if two same shaped string arrayss one by one**"
      ]
    },
    {
      "cell_type": "code",
      "metadata": {
        "colab": {
          "base_uri": "https://localhost:8080/"
        },
        "id": "5mOnR6Ss_Aqt",
        "outputId": "9c307907-fab2-4183-908c-a35d823c33e8"
      },
      "source": [
        "import numpy as np\n",
        "  \n",
        "in_arr1 = np.array('numpy')\n",
        "print (\"1st Input array: \", in_arr1)\n",
        "  \n",
        "in_arr2 = np.array('nump')\n",
        "print (\"2nd Input array: \", in_arr2)  \n",
        "  \n",
        "out_arr = np.char.not_equal(in_arr1, in_arr2)\n",
        "print (\"Output array: \", out_arr) "
      ],
      "execution_count": 136,
      "outputs": [
        {
          "output_type": "stream",
          "name": "stdout",
          "text": [
            "1st Input array:  numpy\n",
            "2nd Input array:  nump\n",
            "Output array:  True\n"
          ]
        }
      ]
    },
    {
      "cell_type": "markdown",
      "metadata": {
        "id": "q4RAr3GZ_QCe"
      },
      "source": [
        "**Count the number of substrings in an array**"
      ]
    },
    {
      "cell_type": "code",
      "metadata": {
        "colab": {
          "base_uri": "https://localhost:8080/"
        },
        "id": "6umuVxw0_Rkg",
        "outputId": "4173117a-14f8-4c40-f1da-773029a881df"
      },
      "source": [
        "import numpy as np\n",
        "  \n",
        "in_arr = np.array(['Sayantan', '  Sayan  ', 'Sayansubhra'])\n",
        "print (\"Input array : \", in_arr) \n",
        "  \n",
        "out_arr = np.char.count(in_arr, sub ='an')\n",
        "print (\"Output array: \", out_arr) "
      ],
      "execution_count": 137,
      "outputs": [
        {
          "output_type": "stream",
          "name": "stdout",
          "text": [
            "Input array :  ['Sayantan' '  Sayan  ' 'Sayansubhra']\n",
            "Output array:  [2 1 1]\n"
          ]
        }
      ]
    },
    {
      "cell_type": "markdown",
      "metadata": {
        "id": "Jw6Bb7oN_Z-f"
      },
      "source": [
        "**Find the lowest index of the substring in an array**"
      ]
    },
    {
      "cell_type": "code",
      "metadata": {
        "colab": {
          "base_uri": "https://localhost:8080/"
        },
        "id": "orAVJcex_c6W",
        "outputId": "38ad8d25-b721-456b-c7e6-1a9b39e64ed2"
      },
      "source": [
        "import numpy as np\n",
        "  \n",
        "in_arr = np.array(['aAaAaA', 'baA', 'abBABba'])\n",
        "print (\"Input array: \", in_arr) \n",
        "  \n",
        "out_arr = np.char.find(in_arr, sub ='A')\n",
        "print (\"Output array: \", out_arr) "
      ],
      "execution_count": 138,
      "outputs": [
        {
          "output_type": "stream",
          "name": "stdout",
          "text": [
            "Input array:  ['aAaAaA' 'baA' 'abBABba']\n",
            "Output array:  [1 2 3]\n"
          ]
        }
      ]
    },
    {
      "cell_type": "markdown",
      "metadata": {
        "id": "dkjYp4XH_nEQ"
      },
      "source": [
        "**Get the boolean array when values end with a particular character**"
      ]
    },
    {
      "cell_type": "code",
      "metadata": {
        "colab": {
          "base_uri": "https://localhost:8080/"
        },
        "id": "mG-Rcdzr_oLk",
        "outputId": "b92ed1fb-120c-457a-e138-8969f3ab0aca"
      },
      "source": [
        "import numpy as np\n",
        "  \n",
        "a = np.array(['ana', 'lucia', 'ferreira'])\n",
        "gfg = np.char.endswith(a, 'a')\n",
        "  \n",
        "print(gfg)"
      ],
      "execution_count": 140,
      "outputs": [
        {
          "output_type": "stream",
          "name": "stdout",
          "text": [
            "[ True  True  True]\n"
          ]
        }
      ]
    }
  ]
}